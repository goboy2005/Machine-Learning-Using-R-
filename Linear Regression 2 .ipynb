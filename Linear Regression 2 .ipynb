{
  "nbformat": 4,
  "nbformat_minor": 0,
  "metadata": {
    "colab": {
      "name": "Linear Regression 2 .ipynb",
      "provenance": [],
      "authorship_tag": "ABX9TyMtgmCsOjKYV58TUb/9ba0h",
      "include_colab_link": true
    },
    "kernelspec": {
      "name": "ir",
      "display_name": "R"
    }
  },
  "cells": [
    {
      "cell_type": "markdown",
      "metadata": {
        "id": "view-in-github",
        "colab_type": "text"
      },
      "source": [
        "<a href=\"https://colab.research.google.com/github/goboy2005/R/blob/main/Linear%20Regression%202%20.ipynb\" target=\"_parent\"><img src=\"https://colab.research.google.com/assets/colab-badge.svg\" alt=\"Open In Colab\"/></a>"
      ]
    },
    {
      "cell_type": "code",
      "metadata": {
        "id": "JUynSlYZCbXZ"
      },
      "source": [
        "insurance<- read.csv(\"insurance.csv\",header = T)"
      ],
      "execution_count": 2,
      "outputs": []
    },
    {
      "cell_type": "code",
      "metadata": {
        "colab": {
          "base_uri": "https://localhost:8080/",
          "height": 195
        },
        "id": "YUuQ2irCCuyk",
        "outputId": "77f4701a-36e8-4d6c-e421-9b30d5e4f1f4"
      },
      "source": [
        "head(insurance)"
      ],
      "execution_count": 4,
      "outputs": [
        {
          "output_type": "display_data",
          "data": {
            "text/plain": [
              "  age sex    bmi  children smoker region    expenses\n",
              "1 19  female 27.9 0        yes    southwest 16884.92\n",
              "2 18  male   33.8 1        no     southeast  1725.55\n",
              "3 28  male   33.0 3        no     southeast  4449.46\n",
              "4 33  male   22.7 0        no     northwest 21984.47\n",
              "5 32  male   28.9 0        no     northwest  3866.86\n",
              "6 31  female 25.7 0        no     southeast  3756.62"
            ],
            "text/latex": "A data.frame: 6 × 7\n\\begin{tabular}{r|lllllll}\n  & age & sex & bmi & children & smoker & region & expenses\\\\\n  & <int> & <chr> & <dbl> & <int> & <chr> & <chr> & <dbl>\\\\\n\\hline\n\t1 & 19 & female & 27.9 & 0 & yes & southwest & 16884.92\\\\\n\t2 & 18 & male   & 33.8 & 1 & no  & southeast &  1725.55\\\\\n\t3 & 28 & male   & 33.0 & 3 & no  & southeast &  4449.46\\\\\n\t4 & 33 & male   & 22.7 & 0 & no  & northwest & 21984.47\\\\\n\t5 & 32 & male   & 28.9 & 0 & no  & northwest &  3866.86\\\\\n\t6 & 31 & female & 25.7 & 0 & no  & southeast &  3756.62\\\\\n\\end{tabular}\n",
            "text/markdown": "\nA data.frame: 6 × 7\n\n| <!--/--> | age &lt;int&gt; | sex &lt;chr&gt; | bmi &lt;dbl&gt; | children &lt;int&gt; | smoker &lt;chr&gt; | region &lt;chr&gt; | expenses &lt;dbl&gt; |\n|---|---|---|---|---|---|---|---|\n| 1 | 19 | female | 27.9 | 0 | yes | southwest | 16884.92 |\n| 2 | 18 | male   | 33.8 | 1 | no  | southeast |  1725.55 |\n| 3 | 28 | male   | 33.0 | 3 | no  | southeast |  4449.46 |\n| 4 | 33 | male   | 22.7 | 0 | no  | northwest | 21984.47 |\n| 5 | 32 | male   | 28.9 | 0 | no  | northwest |  3866.86 |\n| 6 | 31 | female | 25.7 | 0 | no  | southeast |  3756.62 |\n\n",
            "text/html": [
              "<table>\n",
              "<caption>A data.frame: 6 × 7</caption>\n",
              "<thead>\n",
              "\t<tr><th></th><th scope=col>age</th><th scope=col>sex</th><th scope=col>bmi</th><th scope=col>children</th><th scope=col>smoker</th><th scope=col>region</th><th scope=col>expenses</th></tr>\n",
              "\t<tr><th></th><th scope=col>&lt;int&gt;</th><th scope=col>&lt;chr&gt;</th><th scope=col>&lt;dbl&gt;</th><th scope=col>&lt;int&gt;</th><th scope=col>&lt;chr&gt;</th><th scope=col>&lt;chr&gt;</th><th scope=col>&lt;dbl&gt;</th></tr>\n",
              "</thead>\n",
              "<tbody>\n",
              "\t<tr><th scope=row>1</th><td>19</td><td>female</td><td>27.9</td><td>0</td><td>yes</td><td>southwest</td><td>16884.92</td></tr>\n",
              "\t<tr><th scope=row>2</th><td>18</td><td>male  </td><td>33.8</td><td>1</td><td>no </td><td>southeast</td><td> 1725.55</td></tr>\n",
              "\t<tr><th scope=row>3</th><td>28</td><td>male  </td><td>33.0</td><td>3</td><td>no </td><td>southeast</td><td> 4449.46</td></tr>\n",
              "\t<tr><th scope=row>4</th><td>33</td><td>male  </td><td>22.7</td><td>0</td><td>no </td><td>northwest</td><td>21984.47</td></tr>\n",
              "\t<tr><th scope=row>5</th><td>32</td><td>male  </td><td>28.9</td><td>0</td><td>no </td><td>northwest</td><td> 3866.86</td></tr>\n",
              "\t<tr><th scope=row>6</th><td>31</td><td>female</td><td>25.7</td><td>0</td><td>no </td><td>southeast</td><td> 3756.62</td></tr>\n",
              "</tbody>\n",
              "</table>\n"
            ]
          },
          "metadata": {
            "tags": []
          }
        }
      ]
    },
    {
      "cell_type": "code",
      "metadata": {
        "colab": {
          "base_uri": "https://localhost:8080/",
          "height": 639
        },
        "id": "80VcnisfCxAk",
        "outputId": "fc52a80e-0adb-4fef-a2a5-a6001b7929ee"
      },
      "source": [
        "attach(insurance)\r\n",
        "model2<-lm(expenses~.,data=insurance)\r\n",
        "summary(model2)"
      ],
      "execution_count": 8,
      "outputs": [
        {
          "output_type": "stream",
          "text": [
            "The following objects are masked from insurance (pos = 3):\n",
            "\n",
            "    age, bmi, children, expenses, region, sex, smoker\n",
            "\n",
            "\n",
            "The following objects are masked from insurance (pos = 4):\n",
            "\n",
            "    age, bmi, children, expenses, region, sex, smoker\n",
            "\n",
            "\n"
          ],
          "name": "stderr"
        },
        {
          "output_type": "display_data",
          "data": {
            "text/plain": [
              "\n",
              "Call:\n",
              "lm(formula = expenses ~ ., data = insurance)\n",
              "\n",
              "Residuals:\n",
              "     Min       1Q   Median       3Q      Max \n",
              "-11302.7  -2850.9   -979.6   1383.9  29981.7 \n",
              "\n",
              "Coefficients:\n",
              "                Estimate Std. Error t value Pr(>|t|)    \n",
              "(Intercept)     -11941.6      987.8 -12.089  < 2e-16 ***\n",
              "age                256.8       11.9  21.586  < 2e-16 ***\n",
              "sexmale           -131.3      332.9  -0.395 0.693255    \n",
              "bmi                339.3       28.6  11.864  < 2e-16 ***\n",
              "children           475.7      137.8   3.452 0.000574 ***\n",
              "smokeryes        23847.5      413.1  57.723  < 2e-16 ***\n",
              "regionnorthwest   -352.8      476.3  -0.741 0.458976    \n",
              "regionsoutheast  -1035.6      478.7  -2.163 0.030685 *  \n",
              "regionsouthwest   -959.3      477.9  -2.007 0.044921 *  \n",
              "---\n",
              "Signif. codes:  0 ‘***’ 0.001 ‘**’ 0.01 ‘*’ 0.05 ‘.’ 0.1 ‘ ’ 1\n",
              "\n",
              "Residual standard error: 6062 on 1329 degrees of freedom\n",
              "Multiple R-squared:  0.7509,\tAdjusted R-squared:  0.7494 \n",
              "F-statistic: 500.9 on 8 and 1329 DF,  p-value: < 2.2e-16\n"
            ]
          },
          "metadata": {
            "tags": []
          }
        }
      ]
    },
    {
      "cell_type": "code",
      "metadata": {
        "colab": {
          "base_uri": "https://localhost:8080/",
          "height": 195
        },
        "id": "Ywf3NdiZC-Tv",
        "outputId": "5d862faa-1424-4e8e-cfaa-9438524ef164"
      },
      "source": [
        "insurance$age2  <-  insurance$age^2\r\n",
        "head(insurance)"
      ],
      "execution_count": 9,
      "outputs": [
        {
          "output_type": "display_data",
          "data": {
            "text/plain": [
              "  age sex    bmi  children smoker region    expenses age2\n",
              "1 19  female 27.9 0        yes    southwest 16884.92  361\n",
              "2 18  male   33.8 1        no     southeast  1725.55  324\n",
              "3 28  male   33.0 3        no     southeast  4449.46  784\n",
              "4 33  male   22.7 0        no     northwest 21984.47 1089\n",
              "5 32  male   28.9 0        no     northwest  3866.86 1024\n",
              "6 31  female 25.7 0        no     southeast  3756.62  961"
            ],
            "text/latex": "A data.frame: 6 × 8\n\\begin{tabular}{r|llllllll}\n  & age & sex & bmi & children & smoker & region & expenses & age2\\\\\n  & <int> & <chr> & <dbl> & <int> & <chr> & <chr> & <dbl> & <dbl>\\\\\n\\hline\n\t1 & 19 & female & 27.9 & 0 & yes & southwest & 16884.92 &  361\\\\\n\t2 & 18 & male   & 33.8 & 1 & no  & southeast &  1725.55 &  324\\\\\n\t3 & 28 & male   & 33.0 & 3 & no  & southeast &  4449.46 &  784\\\\\n\t4 & 33 & male   & 22.7 & 0 & no  & northwest & 21984.47 & 1089\\\\\n\t5 & 32 & male   & 28.9 & 0 & no  & northwest &  3866.86 & 1024\\\\\n\t6 & 31 & female & 25.7 & 0 & no  & southeast &  3756.62 &  961\\\\\n\\end{tabular}\n",
            "text/markdown": "\nA data.frame: 6 × 8\n\n| <!--/--> | age &lt;int&gt; | sex &lt;chr&gt; | bmi &lt;dbl&gt; | children &lt;int&gt; | smoker &lt;chr&gt; | region &lt;chr&gt; | expenses &lt;dbl&gt; | age2 &lt;dbl&gt; |\n|---|---|---|---|---|---|---|---|---|\n| 1 | 19 | female | 27.9 | 0 | yes | southwest | 16884.92 |  361 |\n| 2 | 18 | male   | 33.8 | 1 | no  | southeast |  1725.55 |  324 |\n| 3 | 28 | male   | 33.0 | 3 | no  | southeast |  4449.46 |  784 |\n| 4 | 33 | male   | 22.7 | 0 | no  | northwest | 21984.47 | 1089 |\n| 5 | 32 | male   | 28.9 | 0 | no  | northwest |  3866.86 | 1024 |\n| 6 | 31 | female | 25.7 | 0 | no  | southeast |  3756.62 |  961 |\n\n",
            "text/html": [
              "<table>\n",
              "<caption>A data.frame: 6 × 8</caption>\n",
              "<thead>\n",
              "\t<tr><th></th><th scope=col>age</th><th scope=col>sex</th><th scope=col>bmi</th><th scope=col>children</th><th scope=col>smoker</th><th scope=col>region</th><th scope=col>expenses</th><th scope=col>age2</th></tr>\n",
              "\t<tr><th></th><th scope=col>&lt;int&gt;</th><th scope=col>&lt;chr&gt;</th><th scope=col>&lt;dbl&gt;</th><th scope=col>&lt;int&gt;</th><th scope=col>&lt;chr&gt;</th><th scope=col>&lt;chr&gt;</th><th scope=col>&lt;dbl&gt;</th><th scope=col>&lt;dbl&gt;</th></tr>\n",
              "</thead>\n",
              "<tbody>\n",
              "\t<tr><th scope=row>1</th><td>19</td><td>female</td><td>27.9</td><td>0</td><td>yes</td><td>southwest</td><td>16884.92</td><td> 361</td></tr>\n",
              "\t<tr><th scope=row>2</th><td>18</td><td>male  </td><td>33.8</td><td>1</td><td>no </td><td>southeast</td><td> 1725.55</td><td> 324</td></tr>\n",
              "\t<tr><th scope=row>3</th><td>28</td><td>male  </td><td>33.0</td><td>3</td><td>no </td><td>southeast</td><td> 4449.46</td><td> 784</td></tr>\n",
              "\t<tr><th scope=row>4</th><td>33</td><td>male  </td><td>22.7</td><td>0</td><td>no </td><td>northwest</td><td>21984.47</td><td>1089</td></tr>\n",
              "\t<tr><th scope=row>5</th><td>32</td><td>male  </td><td>28.9</td><td>0</td><td>no </td><td>northwest</td><td> 3866.86</td><td>1024</td></tr>\n",
              "\t<tr><th scope=row>6</th><td>31</td><td>female</td><td>25.7</td><td>0</td><td>no </td><td>southeast</td><td> 3756.62</td><td> 961</td></tr>\n",
              "</tbody>\n",
              "</table>\n"
            ]
          },
          "metadata": {
            "tags": []
          }
        }
      ]
    },
    {
      "cell_type": "code",
      "metadata": {
        "id": "UPnTL_mAJMw_"
      },
      "source": [
        "model3 <- lm(expenses ~ . , data=insurance)\r\n",
        "summary(model3)"
      ],
      "execution_count": null,
      "outputs": []
    },
    {
      "cell_type": "code",
      "metadata": {
        "colab": {
          "base_uri": "https://localhost:8080/",
          "height": 675
        },
        "id": "m6Mn-aaEKAXT",
        "outputId": "6c6e65df-5e1c-4f5a-fc23-bd908b87ccac"
      },
      "source": [
        "insurance$bmi30 <- ifelse( insurance$bmi >= 30, 1, 0 ) \r\n",
        "head(insurance)\r\n",
        "\r\n",
        "model4 <-  lm(expenses ~ .  , data= insurance) \r\n",
        "summary(model4) "
      ],
      "execution_count": 13,
      "outputs": [
        {
          "output_type": "display_data",
          "data": {
            "text/plain": [
              "  age sex    bmi  children smoker region    expenses age2 bmi30\n",
              "1 19  female 27.9 0        yes    southwest 16884.92  361 0    \n",
              "2 18  male   33.8 1        no     southeast  1725.55  324 1    \n",
              "3 28  male   33.0 3        no     southeast  4449.46  784 1    \n",
              "4 33  male   22.7 0        no     northwest 21984.47 1089 0    \n",
              "5 32  male   28.9 0        no     northwest  3866.86 1024 0    \n",
              "6 31  female 25.7 0        no     southeast  3756.62  961 0    "
            ],
            "text/latex": "A data.frame: 6 × 9\n\\begin{tabular}{r|lllllllll}\n  & age & sex & bmi & children & smoker & region & expenses & age2 & bmi30\\\\\n  & <int> & <chr> & <dbl> & <int> & <chr> & <chr> & <dbl> & <dbl> & <dbl>\\\\\n\\hline\n\t1 & 19 & female & 27.9 & 0 & yes & southwest & 16884.92 &  361 & 0\\\\\n\t2 & 18 & male   & 33.8 & 1 & no  & southeast &  1725.55 &  324 & 1\\\\\n\t3 & 28 & male   & 33.0 & 3 & no  & southeast &  4449.46 &  784 & 1\\\\\n\t4 & 33 & male   & 22.7 & 0 & no  & northwest & 21984.47 & 1089 & 0\\\\\n\t5 & 32 & male   & 28.9 & 0 & no  & northwest &  3866.86 & 1024 & 0\\\\\n\t6 & 31 & female & 25.7 & 0 & no  & southeast &  3756.62 &  961 & 0\\\\\n\\end{tabular}\n",
            "text/markdown": "\nA data.frame: 6 × 9\n\n| <!--/--> | age &lt;int&gt; | sex &lt;chr&gt; | bmi &lt;dbl&gt; | children &lt;int&gt; | smoker &lt;chr&gt; | region &lt;chr&gt; | expenses &lt;dbl&gt; | age2 &lt;dbl&gt; | bmi30 &lt;dbl&gt; |\n|---|---|---|---|---|---|---|---|---|---|\n| 1 | 19 | female | 27.9 | 0 | yes | southwest | 16884.92 |  361 | 0 |\n| 2 | 18 | male   | 33.8 | 1 | no  | southeast |  1725.55 |  324 | 1 |\n| 3 | 28 | male   | 33.0 | 3 | no  | southeast |  4449.46 |  784 | 1 |\n| 4 | 33 | male   | 22.7 | 0 | no  | northwest | 21984.47 | 1089 | 0 |\n| 5 | 32 | male   | 28.9 | 0 | no  | northwest |  3866.86 | 1024 | 0 |\n| 6 | 31 | female | 25.7 | 0 | no  | southeast |  3756.62 |  961 | 0 |\n\n",
            "text/html": [
              "<table>\n",
              "<caption>A data.frame: 6 × 9</caption>\n",
              "<thead>\n",
              "\t<tr><th></th><th scope=col>age</th><th scope=col>sex</th><th scope=col>bmi</th><th scope=col>children</th><th scope=col>smoker</th><th scope=col>region</th><th scope=col>expenses</th><th scope=col>age2</th><th scope=col>bmi30</th></tr>\n",
              "\t<tr><th></th><th scope=col>&lt;int&gt;</th><th scope=col>&lt;chr&gt;</th><th scope=col>&lt;dbl&gt;</th><th scope=col>&lt;int&gt;</th><th scope=col>&lt;chr&gt;</th><th scope=col>&lt;chr&gt;</th><th scope=col>&lt;dbl&gt;</th><th scope=col>&lt;dbl&gt;</th><th scope=col>&lt;dbl&gt;</th></tr>\n",
              "</thead>\n",
              "<tbody>\n",
              "\t<tr><th scope=row>1</th><td>19</td><td>female</td><td>27.9</td><td>0</td><td>yes</td><td>southwest</td><td>16884.92</td><td> 361</td><td>0</td></tr>\n",
              "\t<tr><th scope=row>2</th><td>18</td><td>male  </td><td>33.8</td><td>1</td><td>no </td><td>southeast</td><td> 1725.55</td><td> 324</td><td>1</td></tr>\n",
              "\t<tr><th scope=row>3</th><td>28</td><td>male  </td><td>33.0</td><td>3</td><td>no </td><td>southeast</td><td> 4449.46</td><td> 784</td><td>1</td></tr>\n",
              "\t<tr><th scope=row>4</th><td>33</td><td>male  </td><td>22.7</td><td>0</td><td>no </td><td>northwest</td><td>21984.47</td><td>1089</td><td>0</td></tr>\n",
              "\t<tr><th scope=row>5</th><td>32</td><td>male  </td><td>28.9</td><td>0</td><td>no </td><td>northwest</td><td> 3866.86</td><td>1024</td><td>0</td></tr>\n",
              "\t<tr><th scope=row>6</th><td>31</td><td>female</td><td>25.7</td><td>0</td><td>no </td><td>southeast</td><td> 3756.62</td><td> 961</td><td>0</td></tr>\n",
              "</tbody>\n",
              "</table>\n"
            ]
          },
          "metadata": {
            "tags": []
          }
        },
        {
          "output_type": "display_data",
          "data": {
            "text/plain": [
              "\n",
              "Call:\n",
              "lm(formula = expenses ~ ., data = insurance)\n",
              "\n",
              "Residuals:\n",
              "     Min       1Q   Median       3Q      Max \n",
              "-12493.8  -3360.4    136.9   1310.8  29317.0 \n",
              "\n",
              "Coefficients:\n",
              "                 Estimate Std. Error t value Pr(>|t|)    \n",
              "(Intercept)     -2948.272   1828.553  -1.612 0.107123    \n",
              "age               -28.481     80.443  -0.354 0.723357    \n",
              "sexmale          -166.288    328.313  -0.506 0.612595    \n",
              "bmi               154.070     46.073   3.344 0.000849 ***\n",
              "children          630.455    142.365   4.428 1.03e-05 ***\n",
              "smokeryes       23857.060    407.349  58.567  < 2e-16 ***\n",
              "regionnorthwest  -400.413    469.636  -0.853 0.394033    \n",
              "regionsoutheast  -888.874    472.837  -1.880 0.060344 .  \n",
              "regionsouthwest  -947.344    471.206  -2.010 0.044584 *  \n",
              "age2                3.602      1.004   3.590 0.000343 ***\n",
              "bmi30            2725.683    547.814   4.976 7.36e-07 ***\n",
              "---\n",
              "Signif. codes:  0 ‘***’ 0.001 ‘**’ 0.01 ‘*’ 0.05 ‘.’ 0.1 ‘ ’ 1\n",
              "\n",
              "Residual standard error: 5977 on 1327 degrees of freedom\n",
              "Multiple R-squared:  0.7582,\tAdjusted R-squared:  0.7564 \n",
              "F-statistic: 416.2 on 10 and 1327 DF,  p-value: < 2.2e-16\n"
            ]
          },
          "metadata": {
            "tags": []
          }
        }
      ]
    },
    {
      "cell_type": "code",
      "metadata": {
        "colab": {
          "base_uri": "https://localhost:8080/",
          "height": 532
        },
        "id": "kwmQRBfmJ8YH",
        "outputId": "e305f255-d7b5-4eff-e1fc-38d0fb36b449"
      },
      "source": [
        "model5 <- lm( expenses ~ age + age2 + children + bmi + sex \r\n",
        "                                + bmi30*smoker +region,  data=insurance) \r\n",
        "\r\n",
        "summary(model5)\r\n",
        "\r\n",
        "#0.7509 -------->  0.7537 ---->  0.7582 ------> 0.8664"
      ],
      "execution_count": 15,
      "outputs": [
        {
          "output_type": "display_data",
          "data": {
            "text/plain": [
              "\n",
              "Call:\n",
              "lm(formula = expenses ~ age + age2 + children + bmi + sex + bmi30 * \n",
              "    smoker + region, data = insurance)\n",
              "\n",
              "Residuals:\n",
              "     Min       1Q   Median       3Q      Max \n",
              "-17297.1  -1656.0  -1262.7   -727.8  24161.6 \n",
              "\n",
              "Coefficients:\n",
              "                  Estimate Std. Error t value Pr(>|t|)    \n",
              "(Intercept)       139.0053  1363.1359   0.102 0.918792    \n",
              "age               -32.6181    59.8250  -0.545 0.585690    \n",
              "age2                3.7307     0.7463   4.999 6.54e-07 ***\n",
              "children          678.6017   105.8855   6.409 2.03e-10 ***\n",
              "bmi               119.7715    34.2796   3.494 0.000492 ***\n",
              "sexmale          -496.7690   244.3713  -2.033 0.042267 *  \n",
              "bmi30            -997.9355   422.9607  -2.359 0.018449 *  \n",
              "smokeryes       13404.5952   439.9591  30.468  < 2e-16 ***\n",
              "regionnorthwest  -279.1661   349.2826  -0.799 0.424285    \n",
              "regionsoutheast  -828.0345   351.6484  -2.355 0.018682 *  \n",
              "regionsouthwest -1222.1619   350.5314  -3.487 0.000505 ***\n",
              "bmi30:smokeryes 19810.1534   604.6769  32.762  < 2e-16 ***\n",
              "---\n",
              "Signif. codes:  0 ‘***’ 0.001 ‘**’ 0.01 ‘*’ 0.05 ‘.’ 0.1 ‘ ’ 1\n",
              "\n",
              "Residual standard error: 4445 on 1326 degrees of freedom\n",
              "Multiple R-squared:  0.8664,\tAdjusted R-squared:  0.8653 \n",
              "F-statistic: 781.7 on 11 and 1326 DF,  p-value: < 2.2e-16\n"
            ]
          },
          "metadata": {
            "tags": []
          }
        }
      ]
    }
  ]
}