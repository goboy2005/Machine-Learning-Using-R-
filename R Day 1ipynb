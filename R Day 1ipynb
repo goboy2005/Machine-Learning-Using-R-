{
  "nbformat": 4,
  "nbformat_minor": 0,
  "metadata": {
    "colab": {
      "name": "R Day 1 .ipynb",
      "provenance": [],
      "authorship_tag": "ABX9TyMUCnfY9Tz4cLKfbTL5fR6s",
      "include_colab_link": true
    },
    "kernelspec": {
      "name": "ir",
      "display_name": "R"
    }
  },
  "cells": [
    {
      "cell_type": "markdown",
      "metadata": {
        "id": "view-in-github",
        "colab_type": "text"
      },
      "source": [
        "<a href=\"https://colab.research.google.com/github/goboy2005/R/blob/main/R%20Day%201ipynb\" target=\"_parent\"><img src=\"https://colab.research.google.com/assets/colab-badge.svg\" alt=\"Open In Colab\"/></a>"
      ]
    },
    {
      "cell_type": "code",
      "metadata": {
        "id": "nqqlQ9xSCjXb"
      },
      "source": [
        "#2\r\n",
        "emp<-read.csv('emp3.csv')\r\n"
      ],
      "execution_count": 4,
      "outputs": []
    },
    {
      "cell_type": "code",
      "metadata": {
        "id": "qY551q9TELKw"
      },
      "source": [
        "emp"
      ],
      "execution_count": null,
      "outputs": []
    },
    {
      "cell_type": "code",
      "metadata": {
        "colab": {
          "base_uri": "https://localhost:8080/",
          "height": 52
        },
        "id": "3GgNUREZELsP",
        "outputId": "32ccf998-8ee2-4330-ceba-083e6e31e1f1"
      },
      "source": [
        "summary(emp$sal)"
      ],
      "execution_count": 11,
      "outputs": [
        {
          "output_type": "display_data",
          "data": {
            "text/plain": [
              "   Min. 1st Qu.  Median    Mean 3rd Qu.    Max. \n",
              "    800    1250    1550    2073    2944    5000 "
            ]
          },
          "metadata": {
            "tags": []
          }
        }
      ]
    },
    {
      "cell_type": "code",
      "metadata": {
        "id": "UDDpJHAHERzq"
      },
      "source": [
        "#3\r\n",
        "emp[ , c('ename','sal')]"
      ],
      "execution_count": 88,
      "outputs": []
    },
    {
      "cell_type": "code",
      "metadata": {
        "colab": {
          "base_uri": "https://localhost:8080/",
          "height": 152
        },
        "id": "U_sECiIeEmYi",
        "outputId": "42784599-d5b0-4ab3-d07e-4d89be40238a"
      },
      "source": [
        "#4\r\n",
        "emp[emp$sal>=3000, c('ename','sal')]"
      ],
      "execution_count": 13,
      "outputs": [
        {
          "output_type": "display_data",
          "data": {
            "text/plain": [
              "   ename sal \n",
              "1  KING  5000\n",
              "10 FORD  3000\n",
              "12 SCOTT 3000"
            ],
            "text/latex": "A data.frame: 3 × 2\n\\begin{tabular}{r|ll}\n  & ename & sal\\\\\n  & <chr> & <int>\\\\\n\\hline\n\t1 & KING  & 5000\\\\\n\t10 & FORD  & 3000\\\\\n\t12 & SCOTT & 3000\\\\\n\\end{tabular}\n",
            "text/markdown": "\nA data.frame: 3 × 2\n\n| <!--/--> | ename &lt;chr&gt; | sal &lt;int&gt; |\n|---|---|---|\n| 1 | KING  | 5000 |\n| 10 | FORD  | 3000 |\n| 12 | SCOTT | 3000 |\n\n",
            "text/html": [
              "<table>\n",
              "<caption>A data.frame: 3 × 2</caption>\n",
              "<thead>\n",
              "\t<tr><th></th><th scope=col>ename</th><th scope=col>sal</th></tr>\n",
              "\t<tr><th></th><th scope=col>&lt;chr&gt;</th><th scope=col>&lt;int&gt;</th></tr>\n",
              "</thead>\n",
              "<tbody>\n",
              "\t<tr><th scope=row>1</th><td>KING </td><td>5000</td></tr>\n",
              "\t<tr><th scope=row>10</th><td>FORD </td><td>3000</td></tr>\n",
              "\t<tr><th scope=row>12</th><td>SCOTT</td><td>3000</td></tr>\n",
              "</tbody>\n",
              "</table>\n"
            ]
          },
          "metadata": {
            "tags": []
          }
        }
      ]
    },
    {
      "cell_type": "code",
      "metadata": {
        "colab": {
          "base_uri": "https://localhost:8080/",
          "height": 212
        },
        "id": "hdtPsD17Etm9",
        "outputId": "068aaf39-34b5-4072-800a-671f871fd2d7"
      },
      "source": [
        "#5\r\n",
        "emp[emp$sal>2000,   c('ename','sal')]"
      ],
      "execution_count": 14,
      "outputs": [
        {
          "output_type": "display_data",
          "data": {
            "text/plain": [
              "   ename sal \n",
              "1  KING  5000\n",
              "2  BLAKE 2850\n",
              "3  CLARK 2450\n",
              "4  JONES 2975\n",
              "10 FORD  3000\n",
              "12 SCOTT 3000"
            ],
            "text/latex": "A data.frame: 6 × 2\n\\begin{tabular}{r|ll}\n  & ename & sal\\\\\n  & <chr> & <int>\\\\\n\\hline\n\t1 & KING  & 5000\\\\\n\t2 & BLAKE & 2850\\\\\n\t3 & CLARK & 2450\\\\\n\t4 & JONES & 2975\\\\\n\t10 & FORD  & 3000\\\\\n\t12 & SCOTT & 3000\\\\\n\\end{tabular}\n",
            "text/markdown": "\nA data.frame: 6 × 2\n\n| <!--/--> | ename &lt;chr&gt; | sal &lt;int&gt; |\n|---|---|---|\n| 1 | KING  | 5000 |\n| 2 | BLAKE | 2850 |\n| 3 | CLARK | 2450 |\n| 4 | JONES | 2975 |\n| 10 | FORD  | 3000 |\n| 12 | SCOTT | 3000 |\n\n",
            "text/html": [
              "<table>\n",
              "<caption>A data.frame: 6 × 2</caption>\n",
              "<thead>\n",
              "\t<tr><th></th><th scope=col>ename</th><th scope=col>sal</th></tr>\n",
              "\t<tr><th></th><th scope=col>&lt;chr&gt;</th><th scope=col>&lt;int&gt;</th></tr>\n",
              "</thead>\n",
              "<tbody>\n",
              "\t<tr><th scope=row>1</th><td>KING </td><td>5000</td></tr>\n",
              "\t<tr><th scope=row>2</th><td>BLAKE</td><td>2850</td></tr>\n",
              "\t<tr><th scope=row>3</th><td>CLARK</td><td>2450</td></tr>\n",
              "\t<tr><th scope=row>4</th><td>JONES</td><td>2975</td></tr>\n",
              "\t<tr><th scope=row>10</th><td>FORD </td><td>3000</td></tr>\n",
              "\t<tr><th scope=row>12</th><td>SCOTT</td><td>3000</td></tr>\n",
              "</tbody>\n",
              "</table>\n"
            ]
          },
          "metadata": {
            "tags": []
          }
        }
      ]
    },
    {
      "cell_type": "code",
      "metadata": {
        "colab": {
          "base_uri": "https://localhost:8080/",
          "height": 172
        },
        "id": "KOm83PW0E0ur",
        "outputId": "238aef52-22be-450b-f3af-e25827a45b7f"
      },
      "source": [
        "#6\r\n",
        "emp[emp$job=='SALESMAN', c('ename','sal')]"
      ],
      "execution_count": 17,
      "outputs": [
        {
          "output_type": "display_data",
          "data": {
            "text/plain": [
              "  ename  sal \n",
              "5 MARTIN 1250\n",
              "6 ALLEN  1600\n",
              "7 TURNER 1500\n",
              "9 WARD   1250"
            ],
            "text/latex": "A data.frame: 4 × 2\n\\begin{tabular}{r|ll}\n  & ename & sal\\\\\n  & <chr> & <int>\\\\\n\\hline\n\t5 & MARTIN & 1250\\\\\n\t6 & ALLEN  & 1600\\\\\n\t7 & TURNER & 1500\\\\\n\t9 & WARD   & 1250\\\\\n\\end{tabular}\n",
            "text/markdown": "\nA data.frame: 4 × 2\n\n| <!--/--> | ename &lt;chr&gt; | sal &lt;int&gt; |\n|---|---|---|\n| 5 | MARTIN | 1250 |\n| 6 | ALLEN  | 1600 |\n| 7 | TURNER | 1500 |\n| 9 | WARD   | 1250 |\n\n",
            "text/html": [
              "<table>\n",
              "<caption>A data.frame: 4 × 2</caption>\n",
              "<thead>\n",
              "\t<tr><th></th><th scope=col>ename</th><th scope=col>sal</th></tr>\n",
              "\t<tr><th></th><th scope=col>&lt;chr&gt;</th><th scope=col>&lt;int&gt;</th></tr>\n",
              "</thead>\n",
              "<tbody>\n",
              "\t<tr><th scope=row>5</th><td>MARTIN</td><td>1250</td></tr>\n",
              "\t<tr><th scope=row>6</th><td>ALLEN </td><td>1600</td></tr>\n",
              "\t<tr><th scope=row>7</th><td>TURNER</td><td>1500</td></tr>\n",
              "\t<tr><th scope=row>9</th><td>WARD  </td><td>1250</td></tr>\n",
              "</tbody>\n",
              "</table>\n"
            ]
          },
          "metadata": {
            "tags": []
          }
        }
      ]
    },
    {
      "cell_type": "code",
      "metadata": {
        "colab": {
          "base_uri": "https://localhost:8080/",
          "height": 51
        },
        "id": "9XHfBsNXFKYM",
        "outputId": "7e732047-ee1e-4434-e881-8366a8f579ee"
      },
      "source": [
        "emp$hiredate"
      ],
      "execution_count": 18,
      "outputs": [
        {
          "output_type": "display_data",
          "data": {
            "text/plain": [
              " [1] \"1981-11-17 0:00\" \"1981-05-01 0:00\" \"1981-05-09 0:00\" \"1981-04-01 0:00\"\n",
              " [5] \"1981-09-10 0:00\" \"1981-02-11 0:00\" \"1981-08-21 0:00\" \"1981-12-11 0:00\"\n",
              " [9] \"1981-02-23 0:00\" \"1981-12-11 0:00\" \"1980-12-09 0:00\" \"1982-12-22 0:00\"\n",
              "[13] \"1983-01-15 0:00\" \"1982-01-11 0:00\""
            ],
            "text/latex": "\\begin{enumerate*}\n\\item '1981-11-17 0:00'\n\\item '1981-05-01 0:00'\n\\item '1981-05-09 0:00'\n\\item '1981-04-01 0:00'\n\\item '1981-09-10 0:00'\n\\item '1981-02-11 0:00'\n\\item '1981-08-21 0:00'\n\\item '1981-12-11 0:00'\n\\item '1981-02-23 0:00'\n\\item '1981-12-11 0:00'\n\\item '1980-12-09 0:00'\n\\item '1982-12-22 0:00'\n\\item '1983-01-15 0:00'\n\\item '1982-01-11 0:00'\n\\end{enumerate*}\n",
            "text/markdown": "1. '1981-11-17 0:00'\n2. '1981-05-01 0:00'\n3. '1981-05-09 0:00'\n4. '1981-04-01 0:00'\n5. '1981-09-10 0:00'\n6. '1981-02-11 0:00'\n7. '1981-08-21 0:00'\n8. '1981-12-11 0:00'\n9. '1981-02-23 0:00'\n10. '1981-12-11 0:00'\n11. '1980-12-09 0:00'\n12. '1982-12-22 0:00'\n13. '1983-01-15 0:00'\n14. '1982-01-11 0:00'\n\n\n",
            "text/html": [
              "<style>\n",
              ".list-inline {list-style: none; margin:0; padding: 0}\n",
              ".list-inline>li {display: inline-block}\n",
              ".list-inline>li:not(:last-child)::after {content: \"\\00b7\"; padding: 0 .5ex}\n",
              "</style>\n",
              "<ol class=list-inline><li>'1981-11-17 0:00'</li><li>'1981-05-01 0:00'</li><li>'1981-05-09 0:00'</li><li>'1981-04-01 0:00'</li><li>'1981-09-10 0:00'</li><li>'1981-02-11 0:00'</li><li>'1981-08-21 0:00'</li><li>'1981-12-11 0:00'</li><li>'1981-02-23 0:00'</li><li>'1981-12-11 0:00'</li><li>'1980-12-09 0:00'</li><li>'1982-12-22 0:00'</li><li>'1983-01-15 0:00'</li><li>'1982-01-11 0:00'</li></ol>\n"
            ]
          },
          "metadata": {
            "tags": []
          }
        }
      ]
    },
    {
      "cell_type": "code",
      "metadata": {
        "colab": {
          "base_uri": "https://localhost:8080/",
          "height": 115
        },
        "id": "M_SQVcEsFAHv",
        "outputId": "9753a72a-d9a3-4a06-c88d-33f0404bc43b"
      },
      "source": [
        "#7\r\n",
        "emp[emp$hiredate=='1981-12-11 0:00', c('ename','hiredate')]"
      ],
      "execution_count": 20,
      "outputs": [
        {
          "output_type": "display_data",
          "data": {
            "text/plain": [
              "   ename hiredate       \n",
              "8  JAMES 1981-12-11 0:00\n",
              "10 FORD  1981-12-11 0:00"
            ],
            "text/latex": "A data.frame: 2 × 2\n\\begin{tabular}{r|ll}\n  & ename & hiredate\\\\\n  & <chr> & <chr>\\\\\n\\hline\n\t8 & JAMES & 1981-12-11 0:00\\\\\n\t10 & FORD  & 1981-12-11 0:00\\\\\n\\end{tabular}\n",
            "text/markdown": "\nA data.frame: 2 × 2\n\n| <!--/--> | ename &lt;chr&gt; | hiredate &lt;chr&gt; |\n|---|---|---|\n| 8 | JAMES | 1981-12-11 0:00 |\n| 10 | FORD  | 1981-12-11 0:00 |\n\n",
            "text/html": [
              "<table>\n",
              "<caption>A data.frame: 2 × 2</caption>\n",
              "<thead>\n",
              "\t<tr><th></th><th scope=col>ename</th><th scope=col>hiredate</th></tr>\n",
              "\t<tr><th></th><th scope=col>&lt;chr&gt;</th><th scope=col>&lt;chr&gt;</th></tr>\n",
              "</thead>\n",
              "<tbody>\n",
              "\t<tr><th scope=row>8</th><td>JAMES</td><td>1981-12-11 0:00</td></tr>\n",
              "\t<tr><th scope=row>10</th><td>FORD </td><td>1981-12-11 0:00</td></tr>\n",
              "</tbody>\n",
              "</table>\n"
            ]
          },
          "metadata": {
            "tags": []
          }
        }
      ]
    },
    {
      "cell_type": "code",
      "metadata": {
        "colab": {
          "base_uri": "https://localhost:8080/"
        },
        "id": "dmOX8dB9FRV-",
        "outputId": "4a7cc0fb-9299-4b30-b6fe-22bd4fe5b9df"
      },
      "source": [
        "#8\r\n",
        "str(emp)"
      ],
      "execution_count": 21,
      "outputs": [
        {
          "output_type": "stream",
          "text": [
            "'data.frame':\t14 obs. of  9 variables:\n",
            " $ index   : int  1 2 3 4 5 6 7 8 9 10 ...\n",
            " $ empno   : int  7839 7698 7782 7566 7654 7499 7844 7900 7521 7902 ...\n",
            " $ ename   : chr  \"KING\" \"BLAKE\" \"CLARK\" \"JONES\" ...\n",
            " $ job     : chr  \"PRESIDENT\" \"MANAGER\" \"MANAGER\" \"MANAGER\" ...\n",
            " $ mgr     : int  NA 7839 7839 7839 7698 7698 7698 7698 7698 7566 ...\n",
            " $ hiredate: chr  \"1981-11-17 0:00\" \"1981-05-01 0:00\" \"1981-05-09 0:00\" \"1981-04-01 0:00\" ...\n",
            " $ sal     : int  5000 2850 2450 2975 1250 1600 1500 950 1250 3000 ...\n",
            " $ comm    : int  NA NA NA NA 1400 300 0 NA 500 NA ...\n",
            " $ deptno  : int  10 30 10 20 30 30 30 30 30 20 ...\n"
          ],
          "name": "stdout"
        }
      ]
    },
    {
      "cell_type": "code",
      "metadata": {
        "colab": {
          "base_uri": "https://localhost:8080/"
        },
        "id": "Z_ojy8EsFY4y",
        "outputId": "f5e9f551-7a8a-4062-988a-a5bc3baa7991"
      },
      "source": [
        "#9\r\n",
        "install.packages(\"data.table\")"
      ],
      "execution_count": 22,
      "outputs": [
        {
          "output_type": "stream",
          "text": [
            "Installing package into ‘/usr/local/lib/R/site-library’\n",
            "(as ‘lib’ is unspecified)\n",
            "\n"
          ],
          "name": "stderr"
        }
      ]
    },
    {
      "cell_type": "code",
      "metadata": {
        "colab": {
          "base_uri": "https://localhost:8080/",
          "height": 195
        },
        "id": "oBiUYdFhFh6h",
        "outputId": "0fd88590-6552-4e80-8789-7c33bb3973b7"
      },
      "source": [
        "#10\r\n",
        "emp[emp$job %in% c(\"SALESMAN\",\"ANALYST\"), c('ename','sal','job' )]"
      ],
      "execution_count": 24,
      "outputs": [
        {
          "output_type": "display_data",
          "data": {
            "text/plain": [
              "   ename  sal  job     \n",
              "5  MARTIN 1250 SALESMAN\n",
              "6  ALLEN  1600 SALESMAN\n",
              "7  TURNER 1500 SALESMAN\n",
              "9  WARD   1250 SALESMAN\n",
              "10 FORD   3000 ANALYST \n",
              "12 SCOTT  3000 ANALYST "
            ],
            "text/latex": "A data.frame: 6 × 3\n\\begin{tabular}{r|lll}\n  & ename & sal & job\\\\\n  & <chr> & <int> & <chr>\\\\\n\\hline\n\t5 & MARTIN & 1250 & SALESMAN\\\\\n\t6 & ALLEN  & 1600 & SALESMAN\\\\\n\t7 & TURNER & 1500 & SALESMAN\\\\\n\t9 & WARD   & 1250 & SALESMAN\\\\\n\t10 & FORD   & 3000 & ANALYST \\\\\n\t12 & SCOTT  & 3000 & ANALYST \\\\\n\\end{tabular}\n",
            "text/markdown": "\nA data.frame: 6 × 3\n\n| <!--/--> | ename &lt;chr&gt; | sal &lt;int&gt; | job &lt;chr&gt; |\n|---|---|---|---|\n| 5 | MARTIN | 1250 | SALESMAN |\n| 6 | ALLEN  | 1600 | SALESMAN |\n| 7 | TURNER | 1500 | SALESMAN |\n| 9 | WARD   | 1250 | SALESMAN |\n| 10 | FORD   | 3000 | ANALYST  |\n| 12 | SCOTT  | 3000 | ANALYST  |\n\n",
            "text/html": [
              "<table>\n",
              "<caption>A data.frame: 6 × 3</caption>\n",
              "<thead>\n",
              "\t<tr><th></th><th scope=col>ename</th><th scope=col>sal</th><th scope=col>job</th></tr>\n",
              "\t<tr><th></th><th scope=col>&lt;chr&gt;</th><th scope=col>&lt;int&gt;</th><th scope=col>&lt;chr&gt;</th></tr>\n",
              "</thead>\n",
              "<tbody>\n",
              "\t<tr><th scope=row>5</th><td>MARTIN</td><td>1250</td><td>SALESMAN</td></tr>\n",
              "\t<tr><th scope=row>6</th><td>ALLEN </td><td>1600</td><td>SALESMAN</td></tr>\n",
              "\t<tr><th scope=row>7</th><td>TURNER</td><td>1500</td><td>SALESMAN</td></tr>\n",
              "\t<tr><th scope=row>9</th><td>WARD  </td><td>1250</td><td>SALESMAN</td></tr>\n",
              "\t<tr><th scope=row>10</th><td>FORD  </td><td>3000</td><td>ANALYST </td></tr>\n",
              "\t<tr><th scope=row>12</th><td>SCOTT </td><td>3000</td><td>ANALYST </td></tr>\n",
              "</tbody>\n",
              "</table>\n"
            ]
          },
          "metadata": {
            "tags": []
          }
        }
      ]
    },
    {
      "cell_type": "code",
      "metadata": {
        "colab": {
          "base_uri": "https://localhost:8080/",
          "height": 235
        },
        "id": "RZeSB9LgGHnZ",
        "outputId": "bca03264-7958-42a1-f758-116829f93403"
      },
      "source": [
        "#11\r\n",
        "emp[!emp$job %in% c('SALESMAN','ANALYST') ,c('ename','sal','job')]"
      ],
      "execution_count": 28,
      "outputs": [
        {
          "output_type": "display_data",
          "data": {
            "text/plain": [
              "   ename  sal  job      \n",
              "1  KING   5000 PRESIDENT\n",
              "2  BLAKE  2850 MANAGER  \n",
              "3  CLARK  2450 MANAGER  \n",
              "4  JONES  2975 MANAGER  \n",
              "8  JAMES   950 CLERK    \n",
              "11 SMITH   800 CLERK    \n",
              "13 ADAMS  1100 CLERK    \n",
              "14 MILLER 1300 CLERK    "
            ],
            "text/latex": "A data.frame: 8 × 3\n\\begin{tabular}{r|lll}\n  & ename & sal & job\\\\\n  & <chr> & <int> & <chr>\\\\\n\\hline\n\t1 & KING   & 5000 & PRESIDENT\\\\\n\t2 & BLAKE  & 2850 & MANAGER  \\\\\n\t3 & CLARK  & 2450 & MANAGER  \\\\\n\t4 & JONES  & 2975 & MANAGER  \\\\\n\t8 & JAMES  &  950 & CLERK    \\\\\n\t11 & SMITH  &  800 & CLERK    \\\\\n\t13 & ADAMS  & 1100 & CLERK    \\\\\n\t14 & MILLER & 1300 & CLERK    \\\\\n\\end{tabular}\n",
            "text/markdown": "\nA data.frame: 8 × 3\n\n| <!--/--> | ename &lt;chr&gt; | sal &lt;int&gt; | job &lt;chr&gt; |\n|---|---|---|---|\n| 1 | KING   | 5000 | PRESIDENT |\n| 2 | BLAKE  | 2850 | MANAGER   |\n| 3 | CLARK  | 2450 | MANAGER   |\n| 4 | JONES  | 2975 | MANAGER   |\n| 8 | JAMES  |  950 | CLERK     |\n| 11 | SMITH  |  800 | CLERK     |\n| 13 | ADAMS  | 1100 | CLERK     |\n| 14 | MILLER | 1300 | CLERK     |\n\n",
            "text/html": [
              "<table>\n",
              "<caption>A data.frame: 8 × 3</caption>\n",
              "<thead>\n",
              "\t<tr><th></th><th scope=col>ename</th><th scope=col>sal</th><th scope=col>job</th></tr>\n",
              "\t<tr><th></th><th scope=col>&lt;chr&gt;</th><th scope=col>&lt;int&gt;</th><th scope=col>&lt;chr&gt;</th></tr>\n",
              "</thead>\n",
              "<tbody>\n",
              "\t<tr><th scope=row>1</th><td>KING  </td><td>5000</td><td>PRESIDENT</td></tr>\n",
              "\t<tr><th scope=row>2</th><td>BLAKE </td><td>2850</td><td>MANAGER  </td></tr>\n",
              "\t<tr><th scope=row>3</th><td>CLARK </td><td>2450</td><td>MANAGER  </td></tr>\n",
              "\t<tr><th scope=row>4</th><td>JONES </td><td>2975</td><td>MANAGER  </td></tr>\n",
              "\t<tr><th scope=row>8</th><td>JAMES </td><td> 950</td><td>CLERK    </td></tr>\n",
              "\t<tr><th scope=row>11</th><td>SMITH </td><td> 800</td><td>CLERK    </td></tr>\n",
              "\t<tr><th scope=row>13</th><td>ADAMS </td><td>1100</td><td>CLERK    </td></tr>\n",
              "\t<tr><th scope=row>14</th><td>MILLER</td><td>1300</td><td>CLERK    </td></tr>\n",
              "</tbody>\n",
              "</table>\n"
            ]
          },
          "metadata": {
            "tags": []
          }
        }
      ]
    },
    {
      "cell_type": "code",
      "metadata": {
        "colab": {
          "base_uri": "https://localhost:8080/",
          "height": 235
        },
        "id": "e6Hl9c6eGo-w",
        "outputId": "b76fecdd-5881-41ad-9850-6bb57a786255"
      },
      "source": [
        "#12\r\n",
        "emp[emp$deptno %in% c(10,20) , c('ename', 'sal','deptno')]"
      ],
      "execution_count": 30,
      "outputs": [
        {
          "output_type": "display_data",
          "data": {
            "text/plain": [
              "   ename  sal  deptno\n",
              "1  KING   5000 10    \n",
              "3  CLARK  2450 10    \n",
              "4  JONES  2975 20    \n",
              "10 FORD   3000 20    \n",
              "11 SMITH   800 20    \n",
              "12 SCOTT  3000 20    \n",
              "13 ADAMS  1100 20    \n",
              "14 MILLER 1300 10    "
            ],
            "text/latex": "A data.frame: 8 × 3\n\\begin{tabular}{r|lll}\n  & ename & sal & deptno\\\\\n  & <chr> & <int> & <int>\\\\\n\\hline\n\t1 & KING   & 5000 & 10\\\\\n\t3 & CLARK  & 2450 & 10\\\\\n\t4 & JONES  & 2975 & 20\\\\\n\t10 & FORD   & 3000 & 20\\\\\n\t11 & SMITH  &  800 & 20\\\\\n\t12 & SCOTT  & 3000 & 20\\\\\n\t13 & ADAMS  & 1100 & 20\\\\\n\t14 & MILLER & 1300 & 10\\\\\n\\end{tabular}\n",
            "text/markdown": "\nA data.frame: 8 × 3\n\n| <!--/--> | ename &lt;chr&gt; | sal &lt;int&gt; | deptno &lt;int&gt; |\n|---|---|---|---|\n| 1 | KING   | 5000 | 10 |\n| 3 | CLARK  | 2450 | 10 |\n| 4 | JONES  | 2975 | 20 |\n| 10 | FORD   | 3000 | 20 |\n| 11 | SMITH  |  800 | 20 |\n| 12 | SCOTT  | 3000 | 20 |\n| 13 | ADAMS  | 1100 | 20 |\n| 14 | MILLER | 1300 | 10 |\n\n",
            "text/html": [
              "<table>\n",
              "<caption>A data.frame: 8 × 3</caption>\n",
              "<thead>\n",
              "\t<tr><th></th><th scope=col>ename</th><th scope=col>sal</th><th scope=col>deptno</th></tr>\n",
              "\t<tr><th></th><th scope=col>&lt;chr&gt;</th><th scope=col>&lt;int&gt;</th><th scope=col>&lt;int&gt;</th></tr>\n",
              "</thead>\n",
              "<tbody>\n",
              "\t<tr><th scope=row>1</th><td>KING  </td><td>5000</td><td>10</td></tr>\n",
              "\t<tr><th scope=row>3</th><td>CLARK </td><td>2450</td><td>10</td></tr>\n",
              "\t<tr><th scope=row>4</th><td>JONES </td><td>2975</td><td>20</td></tr>\n",
              "\t<tr><th scope=row>10</th><td>FORD  </td><td>3000</td><td>20</td></tr>\n",
              "\t<tr><th scope=row>11</th><td>SMITH </td><td> 800</td><td>20</td></tr>\n",
              "\t<tr><th scope=row>12</th><td>SCOTT </td><td>3000</td><td>20</td></tr>\n",
              "\t<tr><th scope=row>13</th><td>ADAMS </td><td>1100</td><td>20</td></tr>\n",
              "\t<tr><th scope=row>14</th><td>MILLER</td><td>1300</td><td>10</td></tr>\n",
              "</tbody>\n",
              "</table>\n"
            ]
          },
          "metadata": {
            "tags": []
          }
        }
      ]
    },
    {
      "cell_type": "code",
      "metadata": {
        "colab": {
          "base_uri": "https://localhost:8080/",
          "height": 275
        },
        "id": "6yKoQFvrHNLJ",
        "outputId": "4d3d72f3-2a6e-4cf8-f6b0-5679d9f3fe69"
      },
      "source": [
        "#13\r\n",
        "emp[is.na(emp$comm)  , c('ename','sal','comm')]"
      ],
      "execution_count": 31,
      "outputs": [
        {
          "output_type": "display_data",
          "data": {
            "text/plain": [
              "   ename  sal  comm\n",
              "1  KING   5000 NA  \n",
              "2  BLAKE  2850 NA  \n",
              "3  CLARK  2450 NA  \n",
              "4  JONES  2975 NA  \n",
              "8  JAMES   950 NA  \n",
              "10 FORD   3000 NA  \n",
              "11 SMITH   800 NA  \n",
              "12 SCOTT  3000 NA  \n",
              "13 ADAMS  1100 NA  \n",
              "14 MILLER 1300 NA  "
            ],
            "text/latex": "A data.frame: 10 × 3\n\\begin{tabular}{r|lll}\n  & ename & sal & comm\\\\\n  & <chr> & <int> & <int>\\\\\n\\hline\n\t1 & KING   & 5000 & NA\\\\\n\t2 & BLAKE  & 2850 & NA\\\\\n\t3 & CLARK  & 2450 & NA\\\\\n\t4 & JONES  & 2975 & NA\\\\\n\t8 & JAMES  &  950 & NA\\\\\n\t10 & FORD   & 3000 & NA\\\\\n\t11 & SMITH  &  800 & NA\\\\\n\t12 & SCOTT  & 3000 & NA\\\\\n\t13 & ADAMS  & 1100 & NA\\\\\n\t14 & MILLER & 1300 & NA\\\\\n\\end{tabular}\n",
            "text/markdown": "\nA data.frame: 10 × 3\n\n| <!--/--> | ename &lt;chr&gt; | sal &lt;int&gt; | comm &lt;int&gt; |\n|---|---|---|---|\n| 1 | KING   | 5000 | NA |\n| 2 | BLAKE  | 2850 | NA |\n| 3 | CLARK  | 2450 | NA |\n| 4 | JONES  | 2975 | NA |\n| 8 | JAMES  |  950 | NA |\n| 10 | FORD   | 3000 | NA |\n| 11 | SMITH  |  800 | NA |\n| 12 | SCOTT  | 3000 | NA |\n| 13 | ADAMS  | 1100 | NA |\n| 14 | MILLER | 1300 | NA |\n\n",
            "text/html": [
              "<table>\n",
              "<caption>A data.frame: 10 × 3</caption>\n",
              "<thead>\n",
              "\t<tr><th></th><th scope=col>ename</th><th scope=col>sal</th><th scope=col>comm</th></tr>\n",
              "\t<tr><th></th><th scope=col>&lt;chr&gt;</th><th scope=col>&lt;int&gt;</th><th scope=col>&lt;int&gt;</th></tr>\n",
              "</thead>\n",
              "<tbody>\n",
              "\t<tr><th scope=row>1</th><td>KING  </td><td>5000</td><td>NA</td></tr>\n",
              "\t<tr><th scope=row>2</th><td>BLAKE </td><td>2850</td><td>NA</td></tr>\n",
              "\t<tr><th scope=row>3</th><td>CLARK </td><td>2450</td><td>NA</td></tr>\n",
              "\t<tr><th scope=row>4</th><td>JONES </td><td>2975</td><td>NA</td></tr>\n",
              "\t<tr><th scope=row>8</th><td>JAMES </td><td> 950</td><td>NA</td></tr>\n",
              "\t<tr><th scope=row>10</th><td>FORD  </td><td>3000</td><td>NA</td></tr>\n",
              "\t<tr><th scope=row>11</th><td>SMITH </td><td> 800</td><td>NA</td></tr>\n",
              "\t<tr><th scope=row>12</th><td>SCOTT </td><td>3000</td><td>NA</td></tr>\n",
              "\t<tr><th scope=row>13</th><td>ADAMS </td><td>1100</td><td>NA</td></tr>\n",
              "\t<tr><th scope=row>14</th><td>MILLER</td><td>1300</td><td>NA</td></tr>\n",
              "</tbody>\n",
              "</table>\n"
            ]
          },
          "metadata": {
            "tags": []
          }
        }
      ]
    },
    {
      "cell_type": "code",
      "metadata": {
        "colab": {
          "base_uri": "https://localhost:8080/",
          "height": 155
        },
        "id": "hucoczYJHcDj",
        "outputId": "59f5a6e8-8b20-402c-ee6c-86d6884eb7d9"
      },
      "source": [
        "#14\r\n",
        "emp[ !is.na(emp$comm), c('ename','sal','comm')    ]"
      ],
      "execution_count": 32,
      "outputs": [
        {
          "output_type": "display_data",
          "data": {
            "text/plain": [
              "  ename  sal  comm\n",
              "5 MARTIN 1250 1400\n",
              "6 ALLEN  1600  300\n",
              "7 TURNER 1500    0\n",
              "9 WARD   1250  500"
            ],
            "text/latex": "A data.frame: 4 × 3\n\\begin{tabular}{r|lll}\n  & ename & sal & comm\\\\\n  & <chr> & <int> & <int>\\\\\n\\hline\n\t5 & MARTIN & 1250 & 1400\\\\\n\t6 & ALLEN  & 1600 &  300\\\\\n\t7 & TURNER & 1500 &    0\\\\\n\t9 & WARD   & 1250 &  500\\\\\n\\end{tabular}\n",
            "text/markdown": "\nA data.frame: 4 × 3\n\n| <!--/--> | ename &lt;chr&gt; | sal &lt;int&gt; | comm &lt;int&gt; |\n|---|---|---|---|\n| 5 | MARTIN | 1250 | 1400 |\n| 6 | ALLEN  | 1600 |  300 |\n| 7 | TURNER | 1500 |    0 |\n| 9 | WARD   | 1250 |  500 |\n\n",
            "text/html": [
              "<table>\n",
              "<caption>A data.frame: 4 × 3</caption>\n",
              "<thead>\n",
              "\t<tr><th></th><th scope=col>ename</th><th scope=col>sal</th><th scope=col>comm</th></tr>\n",
              "\t<tr><th></th><th scope=col>&lt;chr&gt;</th><th scope=col>&lt;int&gt;</th><th scope=col>&lt;int&gt;</th></tr>\n",
              "</thead>\n",
              "<tbody>\n",
              "\t<tr><th scope=row>5</th><td>MARTIN</td><td>1250</td><td>1400</td></tr>\n",
              "\t<tr><th scope=row>6</th><td>ALLEN </td><td>1600</td><td> 300</td></tr>\n",
              "\t<tr><th scope=row>7</th><td>TURNER</td><td>1500</td><td>   0</td></tr>\n",
              "\t<tr><th scope=row>9</th><td>WARD  </td><td>1250</td><td> 500</td></tr>\n",
              "</tbody>\n",
              "</table>\n"
            ]
          },
          "metadata": {
            "tags": []
          }
        }
      ]
    },
    {
      "cell_type": "code",
      "metadata": {
        "colab": {
          "base_uri": "https://localhost:8080/",
          "height": 312
        },
        "id": "n_WPgz0DHsBt",
        "outputId": "eaa7170a-9c00-40d7-fae8-3f2c584e6d59"
      },
      "source": [
        "#15\r\n",
        "emp[emp$sal >=1000 & emp$sal <= 3000 ,  c('ename','sal')]"
      ],
      "execution_count": 34,
      "outputs": [
        {
          "output_type": "display_data",
          "data": {
            "text/plain": [
              "   ename  sal \n",
              "2  BLAKE  2850\n",
              "3  CLARK  2450\n",
              "4  JONES  2975\n",
              "5  MARTIN 1250\n",
              "6  ALLEN  1600\n",
              "7  TURNER 1500\n",
              "9  WARD   1250\n",
              "10 FORD   3000\n",
              "12 SCOTT  3000\n",
              "13 ADAMS  1100\n",
              "14 MILLER 1300"
            ],
            "text/latex": "A data.frame: 11 × 2\n\\begin{tabular}{r|ll}\n  & ename & sal\\\\\n  & <chr> & <int>\\\\\n\\hline\n\t2 & BLAKE  & 2850\\\\\n\t3 & CLARK  & 2450\\\\\n\t4 & JONES  & 2975\\\\\n\t5 & MARTIN & 1250\\\\\n\t6 & ALLEN  & 1600\\\\\n\t7 & TURNER & 1500\\\\\n\t9 & WARD   & 1250\\\\\n\t10 & FORD   & 3000\\\\\n\t12 & SCOTT  & 3000\\\\\n\t13 & ADAMS  & 1100\\\\\n\t14 & MILLER & 1300\\\\\n\\end{tabular}\n",
            "text/markdown": "\nA data.frame: 11 × 2\n\n| <!--/--> | ename &lt;chr&gt; | sal &lt;int&gt; |\n|---|---|---|\n| 2 | BLAKE  | 2850 |\n| 3 | CLARK  | 2450 |\n| 4 | JONES  | 2975 |\n| 5 | MARTIN | 1250 |\n| 6 | ALLEN  | 1600 |\n| 7 | TURNER | 1500 |\n| 9 | WARD   | 1250 |\n| 10 | FORD   | 3000 |\n| 12 | SCOTT  | 3000 |\n| 13 | ADAMS  | 1100 |\n| 14 | MILLER | 1300 |\n\n",
            "text/html": [
              "<table>\n",
              "<caption>A data.frame: 11 × 2</caption>\n",
              "<thead>\n",
              "\t<tr><th></th><th scope=col>ename</th><th scope=col>sal</th></tr>\n",
              "\t<tr><th></th><th scope=col>&lt;chr&gt;</th><th scope=col>&lt;int&gt;</th></tr>\n",
              "</thead>\n",
              "<tbody>\n",
              "\t<tr><th scope=row>2</th><td>BLAKE </td><td>2850</td></tr>\n",
              "\t<tr><th scope=row>3</th><td>CLARK </td><td>2450</td></tr>\n",
              "\t<tr><th scope=row>4</th><td>JONES </td><td>2975</td></tr>\n",
              "\t<tr><th scope=row>5</th><td>MARTIN</td><td>1250</td></tr>\n",
              "\t<tr><th scope=row>6</th><td>ALLEN </td><td>1600</td></tr>\n",
              "\t<tr><th scope=row>7</th><td>TURNER</td><td>1500</td></tr>\n",
              "\t<tr><th scope=row>9</th><td>WARD  </td><td>1250</td></tr>\n",
              "\t<tr><th scope=row>10</th><td>FORD  </td><td>3000</td></tr>\n",
              "\t<tr><th scope=row>12</th><td>SCOTT </td><td>3000</td></tr>\n",
              "\t<tr><th scope=row>13</th><td>ADAMS </td><td>1100</td></tr>\n",
              "\t<tr><th scope=row>14</th><td>MILLER</td><td>1300</td></tr>\n",
              "</tbody>\n",
              "</table>\n"
            ]
          },
          "metadata": {
            "tags": []
          }
        }
      ]
    },
    {
      "cell_type": "code",
      "metadata": {
        "colab": {
          "base_uri": "https://localhost:8080/",
          "height": 152
        },
        "id": "EVT4V1W7IA_f",
        "outputId": "14f0e439-30cb-436c-8d6d-83a063596344"
      },
      "source": [
        "#16\r\n",
        "emp[!(emp$sal >= 1000 & emp$sal <=3000) ,c('ename','sal')     ]"
      ],
      "execution_count": 35,
      "outputs": [
        {
          "output_type": "display_data",
          "data": {
            "text/plain": [
              "   ename sal \n",
              "1  KING  5000\n",
              "8  JAMES  950\n",
              "11 SMITH  800"
            ],
            "text/latex": "A data.frame: 3 × 2\n\\begin{tabular}{r|ll}\n  & ename & sal\\\\\n  & <chr> & <int>\\\\\n\\hline\n\t1 & KING  & 5000\\\\\n\t8 & JAMES &  950\\\\\n\t11 & SMITH &  800\\\\\n\\end{tabular}\n",
            "text/markdown": "\nA data.frame: 3 × 2\n\n| <!--/--> | ename &lt;chr&gt; | sal &lt;int&gt; |\n|---|---|---|\n| 1 | KING  | 5000 |\n| 8 | JAMES |  950 |\n| 11 | SMITH |  800 |\n\n",
            "text/html": [
              "<table>\n",
              "<caption>A data.frame: 3 × 2</caption>\n",
              "<thead>\n",
              "\t<tr><th></th><th scope=col>ename</th><th scope=col>sal</th></tr>\n",
              "\t<tr><th></th><th scope=col>&lt;chr&gt;</th><th scope=col>&lt;int&gt;</th></tr>\n",
              "</thead>\n",
              "<tbody>\n",
              "\t<tr><th scope=row>1</th><td>KING </td><td>5000</td></tr>\n",
              "\t<tr><th scope=row>8</th><td>JAMES</td><td> 950</td></tr>\n",
              "\t<tr><th scope=row>11</th><td>SMITH</td><td> 800</td></tr>\n",
              "</tbody>\n",
              "</table>\n"
            ]
          },
          "metadata": {
            "tags": []
          }
        }
      ]
    },
    {
      "cell_type": "code",
      "metadata": {
        "colab": {
          "base_uri": "https://localhost:8080/",
          "height": 132
        },
        "id": "aGGaJaAKIgiM",
        "outputId": "206fc2d8-c8de-474f-ff33-1ce237674132"
      },
      "source": [
        "#17\r\n",
        "emp[grep('^A',emp$ename)   , c('ename','sal'  )]"
      ],
      "execution_count": 45,
      "outputs": [
        {
          "output_type": "display_data",
          "data": {
            "text/plain": [
              "   ename sal \n",
              "6  ALLEN 1600\n",
              "13 ADAMS 1100"
            ],
            "text/latex": "A data.frame: 2 × 2\n\\begin{tabular}{r|ll}\n  & ename & sal\\\\\n  & <chr> & <int>\\\\\n\\hline\n\t6 & ALLEN & 1600\\\\\n\t13 & ADAMS & 1100\\\\\n\\end{tabular}\n",
            "text/markdown": "\nA data.frame: 2 × 2\n\n| <!--/--> | ename &lt;chr&gt; | sal &lt;int&gt; |\n|---|---|---|\n| 6 | ALLEN | 1600 |\n| 13 | ADAMS | 1100 |\n\n",
            "text/html": [
              "<table>\n",
              "<caption>A data.frame: 2 × 2</caption>\n",
              "<thead>\n",
              "\t<tr><th></th><th scope=col>ename</th><th scope=col>sal</th></tr>\n",
              "\t<tr><th></th><th scope=col>&lt;chr&gt;</th><th scope=col>&lt;int&gt;</th></tr>\n",
              "</thead>\n",
              "<tbody>\n",
              "\t<tr><th scope=row>6</th><td>ALLEN</td><td>1600</td></tr>\n",
              "\t<tr><th scope=row>13</th><td>ADAMS</td><td>1100</td></tr>\n",
              "</tbody>\n",
              "</table>\n"
            ]
          },
          "metadata": {
            "tags": []
          }
        }
      ]
    },
    {
      "cell_type": "code",
      "metadata": {
        "colab": {
          "base_uri": "https://localhost:8080/",
          "height": 112
        },
        "id": "qr1eg18bI28q",
        "outputId": "88528051-5e39-4df4-a0ba-baf3f279cd86"
      },
      "source": [
        "#18\r\n",
        "emp[grep( \"T$\",  emp$ename)  ,c('ename','sal')]"
      ],
      "execution_count": 47,
      "outputs": [
        {
          "output_type": "display_data",
          "data": {
            "text/plain": [
              "   ename sal \n",
              "12 SCOTT 3000"
            ],
            "text/latex": "A data.frame: 1 × 2\n\\begin{tabular}{r|ll}\n  & ename & sal\\\\\n  & <chr> & <int>\\\\\n\\hline\n\t12 & SCOTT & 3000\\\\\n\\end{tabular}\n",
            "text/markdown": "\nA data.frame: 1 × 2\n\n| <!--/--> | ename &lt;chr&gt; | sal &lt;int&gt; |\n|---|---|---|\n| 12 | SCOTT | 3000 |\n\n",
            "text/html": [
              "<table>\n",
              "<caption>A data.frame: 1 × 2</caption>\n",
              "<thead>\n",
              "\t<tr><th></th><th scope=col>ename</th><th scope=col>sal</th></tr>\n",
              "\t<tr><th></th><th scope=col>&lt;chr&gt;</th><th scope=col>&lt;int&gt;</th></tr>\n",
              "</thead>\n",
              "<tbody>\n",
              "\t<tr><th scope=row>12</th><td>SCOTT</td><td>3000</td></tr>\n",
              "</tbody>\n",
              "</table>\n"
            ]
          },
          "metadata": {
            "tags": []
          }
        }
      ]
    },
    {
      "cell_type": "code",
      "metadata": {
        "colab": {
          "base_uri": "https://localhost:8080/",
          "height": 112
        },
        "id": "ggVuuC3KbGWf",
        "outputId": "38f46cde-d5d9-4633-d4f9-16eb90df608f"
      },
      "source": [
        "#19\r\n",
        "emp[grep(\"^.M\" ,emp$ename)   ,c('ename','sal')]"
      ],
      "execution_count": 50,
      "outputs": [
        {
          "output_type": "display_data",
          "data": {
            "text/plain": [
              "   ename sal\n",
              "11 SMITH 800"
            ],
            "text/latex": "A data.frame: 1 × 2\n\\begin{tabular}{r|ll}\n  & ename & sal\\\\\n  & <chr> & <int>\\\\\n\\hline\n\t11 & SMITH & 800\\\\\n\\end{tabular}\n",
            "text/markdown": "\nA data.frame: 1 × 2\n\n| <!--/--> | ename &lt;chr&gt; | sal &lt;int&gt; |\n|---|---|---|\n| 11 | SMITH | 800 |\n\n",
            "text/html": [
              "<table>\n",
              "<caption>A data.frame: 1 × 2</caption>\n",
              "<thead>\n",
              "\t<tr><th></th><th scope=col>ename</th><th scope=col>sal</th></tr>\n",
              "\t<tr><th></th><th scope=col>&lt;chr&gt;</th><th scope=col>&lt;int&gt;</th></tr>\n",
              "</thead>\n",
              "<tbody>\n",
              "\t<tr><th scope=row>11</th><td>SMITH</td><td>800</td></tr>\n",
              "</tbody>\n",
              "</table>\n"
            ]
          },
          "metadata": {
            "tags": []
          }
        }
      ]
    },
    {
      "cell_type": "code",
      "metadata": {
        "colab": {
          "base_uri": "https://localhost:8080/",
          "height": 132
        },
        "id": "kilJu3E6bcfU",
        "outputId": "0e197e84-9081-487d-8310-d8f5b8a88e5b"
      },
      "source": [
        "#20\r\n",
        "emp[grep('^..L',emp$ename ),    c('ename','sal')]"
      ],
      "execution_count": 52,
      "outputs": [
        {
          "output_type": "display_data",
          "data": {
            "text/plain": [
              "   ename  sal \n",
              "6  ALLEN  1600\n",
              "14 MILLER 1300"
            ],
            "text/latex": "A data.frame: 2 × 2\n\\begin{tabular}{r|ll}\n  & ename & sal\\\\\n  & <chr> & <int>\\\\\n\\hline\n\t6 & ALLEN  & 1600\\\\\n\t14 & MILLER & 1300\\\\\n\\end{tabular}\n",
            "text/markdown": "\nA data.frame: 2 × 2\n\n| <!--/--> | ename &lt;chr&gt; | sal &lt;int&gt; |\n|---|---|---|\n| 6 | ALLEN  | 1600 |\n| 14 | MILLER | 1300 |\n\n",
            "text/html": [
              "<table>\n",
              "<caption>A data.frame: 2 × 2</caption>\n",
              "<thead>\n",
              "\t<tr><th></th><th scope=col>ename</th><th scope=col>sal</th></tr>\n",
              "\t<tr><th></th><th scope=col>&lt;chr&gt;</th><th scope=col>&lt;int&gt;</th></tr>\n",
              "</thead>\n",
              "<tbody>\n",
              "\t<tr><th scope=row>6</th><td>ALLEN </td><td>1600</td></tr>\n",
              "\t<tr><th scope=row>14</th><td>MILLER</td><td>1300</td></tr>\n",
              "</tbody>\n",
              "</table>\n"
            ]
          },
          "metadata": {
            "tags": []
          }
        }
      ]
    },
    {
      "cell_type": "code",
      "metadata": {
        "colab": {
          "base_uri": "https://localhost:8080/",
          "height": 210
        },
        "id": "m24zZAQAbpod",
        "outputId": "2db32605-bb64-4e4c-ec45-ea64ddd7567a"
      },
      "source": [
        "#21\r\n",
        "library(data.table)\r\n",
        "data.table(\"직업\"=unique(emp$job))"
      ],
      "execution_count": 56,
      "outputs": [
        {
          "output_type": "display_data",
          "data": {
            "text/plain": [
              "  직업     \n",
              "1 PRESIDENT\n",
              "2 MANAGER  \n",
              "3 SALESMAN \n",
              "4 CLERK    \n",
              "5 ANALYST  "
            ],
            "text/latex": "A data.table: 5 × 1\n\\begin{tabular}{l}\n 직업\\\\\n <chr>\\\\\n\\hline\n\t PRESIDENT\\\\\n\t MANAGER  \\\\\n\t SALESMAN \\\\\n\t CLERK    \\\\\n\t ANALYST  \\\\\n\\end{tabular}\n",
            "text/markdown": "\nA data.table: 5 × 1\n\n| 직업 &lt;chr&gt; |\n|---|\n| PRESIDENT |\n| MANAGER   |\n| SALESMAN  |\n| CLERK     |\n| ANALYST   |\n\n",
            "text/html": [
              "<table>\n",
              "<caption>A data.table: 5 × 1</caption>\n",
              "<thead>\n",
              "\t<tr><th scope=col>직업</th></tr>\n",
              "\t<tr><th scope=col>&lt;chr&gt;</th></tr>\n",
              "</thead>\n",
              "<tbody>\n",
              "\t<tr><td>PRESIDENT</td></tr>\n",
              "\t<tr><td>MANAGER  </td></tr>\n",
              "\t<tr><td>SALESMAN </td></tr>\n",
              "\t<tr><td>CLERK    </td></tr>\n",
              "\t<tr><td>ANALYST  </td></tr>\n",
              "</tbody>\n",
              "</table>\n"
            ]
          },
          "metadata": {
            "tags": []
          }
        }
      ]
    },
    {
      "cell_type": "code",
      "metadata": {
        "colab": {
          "base_uri": "https://localhost:8080/",
          "height": 170
        },
        "id": "Du_Teg0ybvLx",
        "outputId": "87eb152e-92f8-4129-ae72-d805bfc500ca"
      },
      "source": [
        "#22\r\n",
        "data.table('부서번호'=unique(emp$deptno))"
      ],
      "execution_count": 57,
      "outputs": [
        {
          "output_type": "display_data",
          "data": {
            "text/plain": [
              "  부서번호\n",
              "1 10      \n",
              "2 30      \n",
              "3 20      "
            ],
            "text/latex": "A data.table: 3 × 1\n\\begin{tabular}{l}\n 부서번호\\\\\n <int>\\\\\n\\hline\n\t 10\\\\\n\t 30\\\\\n\t 20\\\\\n\\end{tabular}\n",
            "text/markdown": "\nA data.table: 3 × 1\n\n| 부서번호 &lt;int&gt; |\n|---|\n| 10 |\n| 30 |\n| 20 |\n\n",
            "text/html": [
              "<table>\n",
              "<caption>A data.table: 3 × 1</caption>\n",
              "<thead>\n",
              "\t<tr><th scope=col>부서번호</th></tr>\n",
              "\t<tr><th scope=col>&lt;int&gt;</th></tr>\n",
              "</thead>\n",
              "<tbody>\n",
              "\t<tr><td>10</td></tr>\n",
              "\t<tr><td>30</td></tr>\n",
              "\t<tr><td>20</td></tr>\n",
              "</tbody>\n",
              "</table>\n"
            ]
          },
          "metadata": {
            "tags": []
          }
        }
      ]
    },
    {
      "cell_type": "code",
      "metadata": {
        "colab": {
          "base_uri": "https://localhost:8080/",
          "height": 34
        },
        "id": "FFSUvcV3cDxS",
        "outputId": "83da499c-148d-4857-a1a9-d1b659d93090"
      },
      "source": [
        "unique(emp$job)"
      ],
      "execution_count": 58,
      "outputs": [
        {
          "output_type": "display_data",
          "data": {
            "text/plain": [
              "[1] \"PRESIDENT\" \"MANAGER\"   \"SALESMAN\"  \"CLERK\"     \"ANALYST\"  "
            ],
            "text/latex": "\\begin{enumerate*}\n\\item 'PRESIDENT'\n\\item 'MANAGER'\n\\item 'SALESMAN'\n\\item 'CLERK'\n\\item 'ANALYST'\n\\end{enumerate*}\n",
            "text/markdown": "1. 'PRESIDENT'\n2. 'MANAGER'\n3. 'SALESMAN'\n4. 'CLERK'\n5. 'ANALYST'\n\n\n",
            "text/html": [
              "<style>\n",
              ".list-inline {list-style: none; margin:0; padding: 0}\n",
              ".list-inline>li {display: inline-block}\n",
              ".list-inline>li:not(:last-child)::after {content: \"\\00b7\"; padding: 0 .5ex}\n",
              "</style>\n",
              "<ol class=list-inline><li>'PRESIDENT'</li><li>'MANAGER'</li><li>'SALESMAN'</li><li>'CLERK'</li><li>'ANALYST'</li></ol>\n"
            ]
          },
          "metadata": {
            "tags": []
          }
        }
      ]
    },
    {
      "cell_type": "code",
      "metadata": {
        "colab": {
          "base_uri": "https://localhost:8080/",
          "height": 372
        },
        "id": "14hj9J2wcFyq",
        "outputId": "e1a96787-84e2-43c6-ed3b-206aec23deda"
      },
      "source": [
        "#23\r\n",
        "emp[order(emp$sal,decreasing=T) ,c('ename','sal')  ]"
      ],
      "execution_count": 61,
      "outputs": [
        {
          "output_type": "display_data",
          "data": {
            "text/plain": [
              "   ename  sal \n",
              "1  KING   5000\n",
              "10 FORD   3000\n",
              "12 SCOTT  3000\n",
              "4  JONES  2975\n",
              "2  BLAKE  2850\n",
              "3  CLARK  2450\n",
              "6  ALLEN  1600\n",
              "7  TURNER 1500\n",
              "14 MILLER 1300\n",
              "5  MARTIN 1250\n",
              "9  WARD   1250\n",
              "13 ADAMS  1100\n",
              "8  JAMES   950\n",
              "11 SMITH   800"
            ],
            "text/latex": "A data.frame: 14 × 2\n\\begin{tabular}{r|ll}\n  & ename & sal\\\\\n  & <chr> & <int>\\\\\n\\hline\n\t1 & KING   & 5000\\\\\n\t10 & FORD   & 3000\\\\\n\t12 & SCOTT  & 3000\\\\\n\t4 & JONES  & 2975\\\\\n\t2 & BLAKE  & 2850\\\\\n\t3 & CLARK  & 2450\\\\\n\t6 & ALLEN  & 1600\\\\\n\t7 & TURNER & 1500\\\\\n\t14 & MILLER & 1300\\\\\n\t5 & MARTIN & 1250\\\\\n\t9 & WARD   & 1250\\\\\n\t13 & ADAMS  & 1100\\\\\n\t8 & JAMES  &  950\\\\\n\t11 & SMITH  &  800\\\\\n\\end{tabular}\n",
            "text/markdown": "\nA data.frame: 14 × 2\n\n| <!--/--> | ename &lt;chr&gt; | sal &lt;int&gt; |\n|---|---|---|\n| 1 | KING   | 5000 |\n| 10 | FORD   | 3000 |\n| 12 | SCOTT  | 3000 |\n| 4 | JONES  | 2975 |\n| 2 | BLAKE  | 2850 |\n| 3 | CLARK  | 2450 |\n| 6 | ALLEN  | 1600 |\n| 7 | TURNER | 1500 |\n| 14 | MILLER | 1300 |\n| 5 | MARTIN | 1250 |\n| 9 | WARD   | 1250 |\n| 13 | ADAMS  | 1100 |\n| 8 | JAMES  |  950 |\n| 11 | SMITH  |  800 |\n\n",
            "text/html": [
              "<table>\n",
              "<caption>A data.frame: 14 × 2</caption>\n",
              "<thead>\n",
              "\t<tr><th></th><th scope=col>ename</th><th scope=col>sal</th></tr>\n",
              "\t<tr><th></th><th scope=col>&lt;chr&gt;</th><th scope=col>&lt;int&gt;</th></tr>\n",
              "</thead>\n",
              "<tbody>\n",
              "\t<tr><th scope=row>1</th><td>KING  </td><td>5000</td></tr>\n",
              "\t<tr><th scope=row>10</th><td>FORD  </td><td>3000</td></tr>\n",
              "\t<tr><th scope=row>12</th><td>SCOTT </td><td>3000</td></tr>\n",
              "\t<tr><th scope=row>4</th><td>JONES </td><td>2975</td></tr>\n",
              "\t<tr><th scope=row>2</th><td>BLAKE </td><td>2850</td></tr>\n",
              "\t<tr><th scope=row>3</th><td>CLARK </td><td>2450</td></tr>\n",
              "\t<tr><th scope=row>6</th><td>ALLEN </td><td>1600</td></tr>\n",
              "\t<tr><th scope=row>7</th><td>TURNER</td><td>1500</td></tr>\n",
              "\t<tr><th scope=row>14</th><td>MILLER</td><td>1300</td></tr>\n",
              "\t<tr><th scope=row>5</th><td>MARTIN</td><td>1250</td></tr>\n",
              "\t<tr><th scope=row>9</th><td>WARD  </td><td>1250</td></tr>\n",
              "\t<tr><th scope=row>13</th><td>ADAMS </td><td>1100</td></tr>\n",
              "\t<tr><th scope=row>8</th><td>JAMES </td><td> 950</td></tr>\n",
              "\t<tr><th scope=row>11</th><td>SMITH </td><td> 800</td></tr>\n",
              "</tbody>\n",
              "</table>\n"
            ]
          },
          "metadata": {
            "tags": []
          }
        }
      ]
    },
    {
      "cell_type": "code",
      "metadata": {
        "colab": {
          "base_uri": "https://localhost:8080/",
          "height": 355
        },
        "id": "jFgrz3WTcTJA",
        "outputId": "f96398ea-fce2-48f2-df82-385a7877635c"
      },
      "source": [
        "#24\r\n",
        "emp[order( emp$hiredate,decreasing = F), c('ename','hiredate')]"
      ],
      "execution_count": 63,
      "outputs": [
        {
          "output_type": "display_data",
          "data": {
            "text/plain": [
              "   ename  hiredate       \n",
              "11 SMITH  1980-12-09 0:00\n",
              "6  ALLEN  1981-02-11 0:00\n",
              "9  WARD   1981-02-23 0:00\n",
              "4  JONES  1981-04-01 0:00\n",
              "2  BLAKE  1981-05-01 0:00\n",
              "3  CLARK  1981-05-09 0:00\n",
              "7  TURNER 1981-08-21 0:00\n",
              "5  MARTIN 1981-09-10 0:00\n",
              "1  KING   1981-11-17 0:00\n",
              "8  JAMES  1981-12-11 0:00\n",
              "10 FORD   1981-12-11 0:00\n",
              "14 MILLER 1982-01-11 0:00\n",
              "12 SCOTT  1982-12-22 0:00\n",
              "13 ADAMS  1983-01-15 0:00"
            ],
            "text/latex": "A data.frame: 14 × 2\n\\begin{tabular}{r|ll}\n  & ename & hiredate\\\\\n  & <chr> & <chr>\\\\\n\\hline\n\t11 & SMITH  & 1980-12-09 0:00\\\\\n\t6 & ALLEN  & 1981-02-11 0:00\\\\\n\t9 & WARD   & 1981-02-23 0:00\\\\\n\t4 & JONES  & 1981-04-01 0:00\\\\\n\t2 & BLAKE  & 1981-05-01 0:00\\\\\n\t3 & CLARK  & 1981-05-09 0:00\\\\\n\t7 & TURNER & 1981-08-21 0:00\\\\\n\t5 & MARTIN & 1981-09-10 0:00\\\\\n\t1 & KING   & 1981-11-17 0:00\\\\\n\t8 & JAMES  & 1981-12-11 0:00\\\\\n\t10 & FORD   & 1981-12-11 0:00\\\\\n\t14 & MILLER & 1982-01-11 0:00\\\\\n\t12 & SCOTT  & 1982-12-22 0:00\\\\\n\t13 & ADAMS  & 1983-01-15 0:00\\\\\n\\end{tabular}\n",
            "text/markdown": "\nA data.frame: 14 × 2\n\n| <!--/--> | ename &lt;chr&gt; | hiredate &lt;chr&gt; |\n|---|---|---|\n| 11 | SMITH  | 1980-12-09 0:00 |\n| 6 | ALLEN  | 1981-02-11 0:00 |\n| 9 | WARD   | 1981-02-23 0:00 |\n| 4 | JONES  | 1981-04-01 0:00 |\n| 2 | BLAKE  | 1981-05-01 0:00 |\n| 3 | CLARK  | 1981-05-09 0:00 |\n| 7 | TURNER | 1981-08-21 0:00 |\n| 5 | MARTIN | 1981-09-10 0:00 |\n| 1 | KING   | 1981-11-17 0:00 |\n| 8 | JAMES  | 1981-12-11 0:00 |\n| 10 | FORD   | 1981-12-11 0:00 |\n| 14 | MILLER | 1982-01-11 0:00 |\n| 12 | SCOTT  | 1982-12-22 0:00 |\n| 13 | ADAMS  | 1983-01-15 0:00 |\n\n",
            "text/html": [
              "<table>\n",
              "<caption>A data.frame: 14 × 2</caption>\n",
              "<thead>\n",
              "\t<tr><th></th><th scope=col>ename</th><th scope=col>hiredate</th></tr>\n",
              "\t<tr><th></th><th scope=col>&lt;chr&gt;</th><th scope=col>&lt;chr&gt;</th></tr>\n",
              "</thead>\n",
              "<tbody>\n",
              "\t<tr><th scope=row>11</th><td>SMITH </td><td>1980-12-09 0:00</td></tr>\n",
              "\t<tr><th scope=row>6</th><td>ALLEN </td><td>1981-02-11 0:00</td></tr>\n",
              "\t<tr><th scope=row>9</th><td>WARD  </td><td>1981-02-23 0:00</td></tr>\n",
              "\t<tr><th scope=row>4</th><td>JONES </td><td>1981-04-01 0:00</td></tr>\n",
              "\t<tr><th scope=row>2</th><td>BLAKE </td><td>1981-05-01 0:00</td></tr>\n",
              "\t<tr><th scope=row>3</th><td>CLARK </td><td>1981-05-09 0:00</td></tr>\n",
              "\t<tr><th scope=row>7</th><td>TURNER</td><td>1981-08-21 0:00</td></tr>\n",
              "\t<tr><th scope=row>5</th><td>MARTIN</td><td>1981-09-10 0:00</td></tr>\n",
              "\t<tr><th scope=row>1</th><td>KING  </td><td>1981-11-17 0:00</td></tr>\n",
              "\t<tr><th scope=row>8</th><td>JAMES </td><td>1981-12-11 0:00</td></tr>\n",
              "\t<tr><th scope=row>10</th><td>FORD  </td><td>1981-12-11 0:00</td></tr>\n",
              "\t<tr><th scope=row>14</th><td>MILLER</td><td>1982-01-11 0:00</td></tr>\n",
              "\t<tr><th scope=row>12</th><td>SCOTT </td><td>1982-12-22 0:00</td></tr>\n",
              "\t<tr><th scope=row>13</th><td>ADAMS </td><td>1983-01-15 0:00</td></tr>\n",
              "</tbody>\n",
              "</table>\n"
            ]
          },
          "metadata": {
            "tags": []
          }
        }
      ]
    },
    {
      "cell_type": "code",
      "metadata": {
        "colab": {
          "base_uri": "https://localhost:8080/",
          "height": 155
        },
        "id": "mAnzruJAcmEZ",
        "outputId": "0097ab8a-b8ba-4ec1-acf2-d3c40e836ba7"
      },
      "source": [
        "#25\r\n",
        "result<- emp[emp$job=='SALESMAN', c('ename','sal','job')]\r\n",
        "result[order(result$sal,decreasing = T), c('ename','sal','job')]"
      ],
      "execution_count": 82,
      "outputs": [
        {
          "output_type": "display_data",
          "data": {
            "text/plain": [
              "  ename  sal  job     \n",
              "6 ALLEN  1600 SALESMAN\n",
              "7 TURNER 1500 SALESMAN\n",
              "5 MARTIN 1250 SALESMAN\n",
              "9 WARD   1250 SALESMAN"
            ],
            "text/latex": "A data.frame: 4 × 3\n\\begin{tabular}{r|lll}\n  & ename & sal & job\\\\\n  & <chr> & <int> & <chr>\\\\\n\\hline\n\t6 & ALLEN  & 1600 & SALESMAN\\\\\n\t7 & TURNER & 1500 & SALESMAN\\\\\n\t5 & MARTIN & 1250 & SALESMAN\\\\\n\t9 & WARD   & 1250 & SALESMAN\\\\\n\\end{tabular}\n",
            "text/markdown": "\nA data.frame: 4 × 3\n\n| <!--/--> | ename &lt;chr&gt; | sal &lt;int&gt; | job &lt;chr&gt; |\n|---|---|---|---|\n| 6 | ALLEN  | 1600 | SALESMAN |\n| 7 | TURNER | 1500 | SALESMAN |\n| 5 | MARTIN | 1250 | SALESMAN |\n| 9 | WARD   | 1250 | SALESMAN |\n\n",
            "text/html": [
              "<table>\n",
              "<caption>A data.frame: 4 × 3</caption>\n",
              "<thead>\n",
              "\t<tr><th></th><th scope=col>ename</th><th scope=col>sal</th><th scope=col>job</th></tr>\n",
              "\t<tr><th></th><th scope=col>&lt;chr&gt;</th><th scope=col>&lt;int&gt;</th><th scope=col>&lt;chr&gt;</th></tr>\n",
              "</thead>\n",
              "<tbody>\n",
              "\t<tr><th scope=row>6</th><td>ALLEN </td><td>1600</td><td>SALESMAN</td></tr>\n",
              "\t<tr><th scope=row>7</th><td>TURNER</td><td>1500</td><td>SALESMAN</td></tr>\n",
              "\t<tr><th scope=row>5</th><td>MARTIN</td><td>1250</td><td>SALESMAN</td></tr>\n",
              "\t<tr><th scope=row>9</th><td>WARD  </td><td>1250</td><td>SALESMAN</td></tr>\n",
              "</tbody>\n",
              "</table>\n"
            ]
          },
          "metadata": {
            "tags": []
          }
        }
      ]
    },
    {
      "cell_type": "code",
      "metadata": {
        "colab": {
          "base_uri": "https://localhost:8080/",
          "height": 195
        },
        "id": "yJIxcu1QdBSy",
        "outputId": "a594c73d-1120-4bf7-d60d-9186482c833a"
      },
      "source": [
        "#26\r\n",
        "result<-emp[emp$deptno==30,c('ename','sal','hiredate')]\r\n",
        "result[order(result$hiredate,decreasing = F), c('ename','sal','hiredate')]"
      ],
      "execution_count": 86,
      "outputs": [
        {
          "output_type": "display_data",
          "data": {
            "text/plain": [
              "  ename  sal  hiredate       \n",
              "6 ALLEN  1600 1981-02-11 0:00\n",
              "9 WARD   1250 1981-02-23 0:00\n",
              "2 BLAKE  2850 1981-05-01 0:00\n",
              "7 TURNER 1500 1981-08-21 0:00\n",
              "5 MARTIN 1250 1981-09-10 0:00\n",
              "8 JAMES   950 1981-12-11 0:00"
            ],
            "text/latex": "A data.frame: 6 × 3\n\\begin{tabular}{r|lll}\n  & ename & sal & hiredate\\\\\n  & <chr> & <int> & <chr>\\\\\n\\hline\n\t6 & ALLEN  & 1600 & 1981-02-11 0:00\\\\\n\t9 & WARD   & 1250 & 1981-02-23 0:00\\\\\n\t2 & BLAKE  & 2850 & 1981-05-01 0:00\\\\\n\t7 & TURNER & 1500 & 1981-08-21 0:00\\\\\n\t5 & MARTIN & 1250 & 1981-09-10 0:00\\\\\n\t8 & JAMES  &  950 & 1981-12-11 0:00\\\\\n\\end{tabular}\n",
            "text/markdown": "\nA data.frame: 6 × 3\n\n| <!--/--> | ename &lt;chr&gt; | sal &lt;int&gt; | hiredate &lt;chr&gt; |\n|---|---|---|---|\n| 6 | ALLEN  | 1600 | 1981-02-11 0:00 |\n| 9 | WARD   | 1250 | 1981-02-23 0:00 |\n| 2 | BLAKE  | 2850 | 1981-05-01 0:00 |\n| 7 | TURNER | 1500 | 1981-08-21 0:00 |\n| 5 | MARTIN | 1250 | 1981-09-10 0:00 |\n| 8 | JAMES  |  950 | 1981-12-11 0:00 |\n\n",
            "text/html": [
              "<table>\n",
              "<caption>A data.frame: 6 × 3</caption>\n",
              "<thead>\n",
              "\t<tr><th></th><th scope=col>ename</th><th scope=col>sal</th><th scope=col>hiredate</th></tr>\n",
              "\t<tr><th></th><th scope=col>&lt;chr&gt;</th><th scope=col>&lt;int&gt;</th><th scope=col>&lt;chr&gt;</th></tr>\n",
              "</thead>\n",
              "<tbody>\n",
              "\t<tr><th scope=row>6</th><td>ALLEN </td><td>1600</td><td>1981-02-11 0:00</td></tr>\n",
              "\t<tr><th scope=row>9</th><td>WARD  </td><td>1250</td><td>1981-02-23 0:00</td></tr>\n",
              "\t<tr><th scope=row>2</th><td>BLAKE </td><td>2850</td><td>1981-05-01 0:00</td></tr>\n",
              "\t<tr><th scope=row>7</th><td>TURNER</td><td>1500</td><td>1981-08-21 0:00</td></tr>\n",
              "\t<tr><th scope=row>5</th><td>MARTIN</td><td>1250</td><td>1981-09-10 0:00</td></tr>\n",
              "\t<tr><th scope=row>8</th><td>JAMES </td><td> 950</td><td>1981-12-11 0:00</td></tr>\n",
              "</tbody>\n",
              "</table>\n"
            ]
          },
          "metadata": {
            "tags": []
          }
        }
      ]
    },
    {
      "cell_type": "code",
      "metadata": {
        "id": "PsZyt4LafCkK"
      },
      "source": [
        "library(doBy)"
      ],
      "execution_count": 101,
      "outputs": []
    },
    {
      "cell_type": "code",
      "metadata": {
        "colab": {
          "base_uri": "https://localhost:8080/",
          "height": 372
        },
        "id": "iAsadr8vfWW1",
        "outputId": "01eabd0c-ceb1-4731-f000-55b3bac27b78"
      },
      "source": [
        "#27\r\n",
        "orderBy(~-sal,  emp[,c('ename','sal')])"
      ],
      "execution_count": 102,
      "outputs": [
        {
          "output_type": "display_data",
          "data": {
            "text/plain": [
              "   ename  sal \n",
              "1  KING   5000\n",
              "10 FORD   3000\n",
              "12 SCOTT  3000\n",
              "4  JONES  2975\n",
              "2  BLAKE  2850\n",
              "3  CLARK  2450\n",
              "6  ALLEN  1600\n",
              "7  TURNER 1500\n",
              "14 MILLER 1300\n",
              "5  MARTIN 1250\n",
              "9  WARD   1250\n",
              "13 ADAMS  1100\n",
              "8  JAMES   950\n",
              "11 SMITH   800"
            ],
            "text/latex": "A data.frame: 14 × 2\n\\begin{tabular}{r|ll}\n  & ename & sal\\\\\n  & <chr> & <int>\\\\\n\\hline\n\t1 & KING   & 5000\\\\\n\t10 & FORD   & 3000\\\\\n\t12 & SCOTT  & 3000\\\\\n\t4 & JONES  & 2975\\\\\n\t2 & BLAKE  & 2850\\\\\n\t3 & CLARK  & 2450\\\\\n\t6 & ALLEN  & 1600\\\\\n\t7 & TURNER & 1500\\\\\n\t14 & MILLER & 1300\\\\\n\t5 & MARTIN & 1250\\\\\n\t9 & WARD   & 1250\\\\\n\t13 & ADAMS  & 1100\\\\\n\t8 & JAMES  &  950\\\\\n\t11 & SMITH  &  800\\\\\n\\end{tabular}\n",
            "text/markdown": "\nA data.frame: 14 × 2\n\n| <!--/--> | ename &lt;chr&gt; | sal &lt;int&gt; |\n|---|---|---|\n| 1 | KING   | 5000 |\n| 10 | FORD   | 3000 |\n| 12 | SCOTT  | 3000 |\n| 4 | JONES  | 2975 |\n| 2 | BLAKE  | 2850 |\n| 3 | CLARK  | 2450 |\n| 6 | ALLEN  | 1600 |\n| 7 | TURNER | 1500 |\n| 14 | MILLER | 1300 |\n| 5 | MARTIN | 1250 |\n| 9 | WARD   | 1250 |\n| 13 | ADAMS  | 1100 |\n| 8 | JAMES  |  950 |\n| 11 | SMITH  |  800 |\n\n",
            "text/html": [
              "<table>\n",
              "<caption>A data.frame: 14 × 2</caption>\n",
              "<thead>\n",
              "\t<tr><th></th><th scope=col>ename</th><th scope=col>sal</th></tr>\n",
              "\t<tr><th></th><th scope=col>&lt;chr&gt;</th><th scope=col>&lt;int&gt;</th></tr>\n",
              "</thead>\n",
              "<tbody>\n",
              "\t<tr><th scope=row>1</th><td>KING  </td><td>5000</td></tr>\n",
              "\t<tr><th scope=row>10</th><td>FORD  </td><td>3000</td></tr>\n",
              "\t<tr><th scope=row>12</th><td>SCOTT </td><td>3000</td></tr>\n",
              "\t<tr><th scope=row>4</th><td>JONES </td><td>2975</td></tr>\n",
              "\t<tr><th scope=row>2</th><td>BLAKE </td><td>2850</td></tr>\n",
              "\t<tr><th scope=row>3</th><td>CLARK </td><td>2450</td></tr>\n",
              "\t<tr><th scope=row>6</th><td>ALLEN </td><td>1600</td></tr>\n",
              "\t<tr><th scope=row>7</th><td>TURNER</td><td>1500</td></tr>\n",
              "\t<tr><th scope=row>14</th><td>MILLER</td><td>1300</td></tr>\n",
              "\t<tr><th scope=row>5</th><td>MARTIN</td><td>1250</td></tr>\n",
              "\t<tr><th scope=row>9</th><td>WARD  </td><td>1250</td></tr>\n",
              "\t<tr><th scope=row>13</th><td>ADAMS </td><td>1100</td></tr>\n",
              "\t<tr><th scope=row>8</th><td>JAMES </td><td> 950</td></tr>\n",
              "\t<tr><th scope=row>11</th><td>SMITH </td><td> 800</td></tr>\n",
              "</tbody>\n",
              "</table>\n"
            ]
          },
          "metadata": {
            "tags": []
          }
        }
      ]
    },
    {
      "cell_type": "code",
      "metadata": {
        "colab": {
          "base_uri": "https://localhost:8080/",
          "height": 315
        },
        "id": "mVMJpPUOgH_w",
        "outputId": "74097a69-f160-44fb-8632-9a048c06a1e4"
      },
      "source": [
        "#28\r\n",
        "orderBy(~-sal, emp[!emp$job==\"ANALYST\",c('ename','job','sal') ] )"
      ],
      "execution_count": 105,
      "outputs": [
        {
          "output_type": "display_data",
          "data": {
            "text/plain": [
              "   ename  job       sal \n",
              "1  KING   PRESIDENT 5000\n",
              "4  JONES  MANAGER   2975\n",
              "2  BLAKE  MANAGER   2850\n",
              "3  CLARK  MANAGER   2450\n",
              "6  ALLEN  SALESMAN  1600\n",
              "7  TURNER SALESMAN  1500\n",
              "14 MILLER CLERK     1300\n",
              "5  MARTIN SALESMAN  1250\n",
              "9  WARD   SALESMAN  1250\n",
              "13 ADAMS  CLERK     1100\n",
              "8  JAMES  CLERK      950\n",
              "11 SMITH  CLERK      800"
            ],
            "text/latex": "A data.frame: 12 × 3\n\\begin{tabular}{r|lll}\n  & ename & job & sal\\\\\n  & <chr> & <chr> & <int>\\\\\n\\hline\n\t1 & KING   & PRESIDENT & 5000\\\\\n\t4 & JONES  & MANAGER   & 2975\\\\\n\t2 & BLAKE  & MANAGER   & 2850\\\\\n\t3 & CLARK  & MANAGER   & 2450\\\\\n\t6 & ALLEN  & SALESMAN  & 1600\\\\\n\t7 & TURNER & SALESMAN  & 1500\\\\\n\t14 & MILLER & CLERK     & 1300\\\\\n\t5 & MARTIN & SALESMAN  & 1250\\\\\n\t9 & WARD   & SALESMAN  & 1250\\\\\n\t13 & ADAMS  & CLERK     & 1100\\\\\n\t8 & JAMES  & CLERK     &  950\\\\\n\t11 & SMITH  & CLERK     &  800\\\\\n\\end{tabular}\n",
            "text/markdown": "\nA data.frame: 12 × 3\n\n| <!--/--> | ename &lt;chr&gt; | job &lt;chr&gt; | sal &lt;int&gt; |\n|---|---|---|---|\n| 1 | KING   | PRESIDENT | 5000 |\n| 4 | JONES  | MANAGER   | 2975 |\n| 2 | BLAKE  | MANAGER   | 2850 |\n| 3 | CLARK  | MANAGER   | 2450 |\n| 6 | ALLEN  | SALESMAN  | 1600 |\n| 7 | TURNER | SALESMAN  | 1500 |\n| 14 | MILLER | CLERK     | 1300 |\n| 5 | MARTIN | SALESMAN  | 1250 |\n| 9 | WARD   | SALESMAN  | 1250 |\n| 13 | ADAMS  | CLERK     | 1100 |\n| 8 | JAMES  | CLERK     |  950 |\n| 11 | SMITH  | CLERK     |  800 |\n\n",
            "text/html": [
              "<table>\n",
              "<caption>A data.frame: 12 × 3</caption>\n",
              "<thead>\n",
              "\t<tr><th></th><th scope=col>ename</th><th scope=col>job</th><th scope=col>sal</th></tr>\n",
              "\t<tr><th></th><th scope=col>&lt;chr&gt;</th><th scope=col>&lt;chr&gt;</th><th scope=col>&lt;int&gt;</th></tr>\n",
              "</thead>\n",
              "<tbody>\n",
              "\t<tr><th scope=row>1</th><td>KING  </td><td>PRESIDENT</td><td>5000</td></tr>\n",
              "\t<tr><th scope=row>4</th><td>JONES </td><td>MANAGER  </td><td>2975</td></tr>\n",
              "\t<tr><th scope=row>2</th><td>BLAKE </td><td>MANAGER  </td><td>2850</td></tr>\n",
              "\t<tr><th scope=row>3</th><td>CLARK </td><td>MANAGER  </td><td>2450</td></tr>\n",
              "\t<tr><th scope=row>6</th><td>ALLEN </td><td>SALESMAN </td><td>1600</td></tr>\n",
              "\t<tr><th scope=row>7</th><td>TURNER</td><td>SALESMAN </td><td>1500</td></tr>\n",
              "\t<tr><th scope=row>14</th><td>MILLER</td><td>CLERK    </td><td>1300</td></tr>\n",
              "\t<tr><th scope=row>5</th><td>MARTIN</td><td>SALESMAN </td><td>1250</td></tr>\n",
              "\t<tr><th scope=row>9</th><td>WARD  </td><td>SALESMAN </td><td>1250</td></tr>\n",
              "\t<tr><th scope=row>13</th><td>ADAMS </td><td>CLERK    </td><td>1100</td></tr>\n",
              "\t<tr><th scope=row>8</th><td>JAMES </td><td>CLERK    </td><td> 950</td></tr>\n",
              "\t<tr><th scope=row>11</th><td>SMITH </td><td>CLERK    </td><td> 800</td></tr>\n",
              "</tbody>\n",
              "</table>\n"
            ]
          },
          "metadata": {
            "tags": []
          }
        }
      ]
    }
  ]
}